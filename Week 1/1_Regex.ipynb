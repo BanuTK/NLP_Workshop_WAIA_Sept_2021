{
 "cells": [
  {
   "cell_type": "markdown",
   "metadata": {},
   "source": [
    "# Regex"
   ]
  },
  {
   "cell_type": "code",
   "execution_count": null,
   "metadata": {
    "ExecuteTime": {
     "end_time": "2021-09-08T18:40:24.385277Z",
     "start_time": "2021-09-08T18:40:24.367879Z"
    }
   },
   "outputs": [],
   "source": [
    "# !pip install re"
   ]
  },
  {
   "cell_type": "code",
   "execution_count": null,
   "metadata": {
    "ExecuteTime": {
     "end_time": "2021-09-08T18:40:24.512845Z",
     "start_time": "2021-09-08T18:40:24.502876Z"
    }
   },
   "outputs": [],
   "source": [
    "pattern = r'\\b[A-Za-z0-9._%+-]+@[A-Za-z0-9.-]+\\.[A-Z|a-z]{2,}\\b'\n",
    "email = 'anna.jones@gmail.com'"
   ]
  },
  {
   "cell_type": "code",
   "execution_count": null,
   "metadata": {
    "ExecuteTime": {
     "end_time": "2021-09-08T18:40:24.967996Z",
     "start_time": "2021-09-08T18:40:24.950047Z"
    }
   },
   "outputs": [],
   "source": [
    "import re  # Python Library used for regex operations\n",
    "if re.fullmatch(pattern, email):\n",
    "    print('It is a match')\n",
    "else:\n",
    "    print('Invalid email id. Try again')"
   ]
  },
  {
   "cell_type": "code",
   "execution_count": null,
   "metadata": {
    "ExecuteTime": {
     "end_time": "2021-09-08T18:40:25.124854Z",
     "start_time": "2021-09-08T18:40:25.102949Z"
    }
   },
   "outputs": [],
   "source": [
    "def validate_email_address(test_your_email):\n",
    "    regex_pattern = r'\\b[A-Za-z0-9._%+-]+@[A-Za-z0-9.-]+\\.[A-Z|a-z]{2,}\\b'\n",
    "    if re.fullmatch(regex_pattern, test_your_email):\n",
    "        print('It is a match')\n",
    "    else:\n",
    "        print('Invalid email id. Try again')"
   ]
  },
  {
   "cell_type": "code",
   "execution_count": null,
   "metadata": {
    "ExecuteTime": {
     "end_time": "2021-09-08T18:40:25.251271Z",
     "start_time": "2021-09-08T18:40:25.244296Z"
    }
   },
   "outputs": [],
   "source": [
    "validate_email_address('anna.jones@gmail.com')\n",
    "validate_email_address('anna.jonesgml.com')  # Doesn't contain @\n",
    "validate_email_address('anna_jones1991@gmail.com')\n",
    "validate_email_address('anna%20jones@gmail.com')\n",
    "validate_email_address('anna%20jones@gma%il.com') # After @, before dot (.) you can only have A-Z, a-z, 0-9, . or _"
   ]
  },
  {
   "cell_type": "markdown",
   "metadata": {},
   "source": [
    "**Regex Tutorial**\n",
    "\n",
    "1. https://www.datacamp.com/community/tutorials/python-regular-expression-tutorial\n",
    "2. https://www.w3schools.com/python/python_regex.asp\n",
    "\n",
    "**Regex Checker**\n",
    "\n",
    "You can check your regex expression is working or not on texts or strings on these websites.\n",
    "\n",
    "1. https://pythex.org/\n",
    "2. https://regex101.com/\n",
    "3. http://www.pyregex.com/"
   ]
  },
  {
   "cell_type": "markdown",
   "metadata": {},
   "source": [
    "## re.search()"
   ]
  },
  {
   "cell_type": "code",
   "execution_count": null,
   "metadata": {
    "ExecuteTime": {
     "end_time": "2021-09-08T18:40:43.391755Z",
     "start_time": "2021-09-08T18:40:43.379796Z"
    }
   },
   "outputs": [],
   "source": [
    "texts = ['1,508 new cases confirmed in Ireland',\n",
    "        '1,712 new cases confirmed in Ireland',\n",
    "        '678 new cases confirmed in Ireland',\n",
    "        '20 new cases confirmed in Ireland',\n",
    "        'There are 200 new cases confirmed in Ireland'\n",
    "       ]"
   ]
  },
  {
   "cell_type": "code",
   "execution_count": null,
   "metadata": {
    "ExecuteTime": {
     "end_time": "2021-09-08T18:43:47.763616Z",
     "start_time": "2021-09-08T18:43:47.744676Z"
    }
   },
   "outputs": [],
   "source": [
    "texts"
   ]
  },
  {
   "cell_type": "code",
   "execution_count": null,
   "metadata": {
    "ExecuteTime": {
     "end_time": "2021-09-08T18:43:42.079459Z",
     "start_time": "2021-09-08T18:43:42.057532Z"
    }
   },
   "outputs": [],
   "source": [
    "texts[0]"
   ]
  },
  {
   "cell_type": "code",
   "execution_count": null,
   "metadata": {
    "ExecuteTime": {
     "end_time": "2021-09-08T18:40:44.127219Z",
     "start_time": "2021-09-08T18:40:44.090357Z"
    }
   },
   "outputs": [],
   "source": [
    "pattern = r'.*new'\n",
    "re.search(pattern, texts[0])"
   ]
  },
  {
   "cell_type": "code",
   "execution_count": null,
   "metadata": {
    "ExecuteTime": {
     "end_time": "2021-09-08T18:41:25.691099Z",
     "start_time": "2021-09-08T18:41:25.672164Z"
    }
   },
   "outputs": [],
   "source": [
    "re_obj = re.search(pattern, texts[0])\n",
    "re_obj.start(), re_obj.end(), re_obj.span(), re_obj.group()"
   ]
  },
  {
   "cell_type": "code",
   "execution_count": null,
   "metadata": {
    "ExecuteTime": {
     "end_time": "2021-09-08T18:42:17.967832Z",
     "start_time": "2021-09-08T18:42:17.949373Z"
    }
   },
   "outputs": [],
   "source": [
    "list_numbers = [re.search(pattern, text).group() for text in texts]\n",
    "list_numbers"
   ]
  },
  {
   "cell_type": "markdown",
   "metadata": {},
   "source": [
    "In the last list element, we get 'There are' because we have .* before new."
   ]
  },
  {
   "cell_type": "markdown",
   "metadata": {},
   "source": [
    "## re.findall()"
   ]
  },
  {
   "cell_type": "code",
   "execution_count": null,
   "metadata": {
    "ExecuteTime": {
     "end_time": "2021-09-08T18:44:41.025099Z",
     "start_time": "2021-09-08T18:44:41.004174Z"
    }
   },
   "outputs": [],
   "source": [
    "pattern = r'Ireland'\n",
    "[re.findall(pattern, text) for text in texts]"
   ]
  },
  {
   "cell_type": "code",
   "execution_count": null,
   "metadata": {
    "ExecuteTime": {
     "end_time": "2021-09-08T18:44:48.998811Z",
     "start_time": "2021-09-08T18:44:48.988837Z"
    }
   },
   "outputs": [],
   "source": [
    "pattern = r'\\d'\n",
    "[re.findall(pattern, text) for text in texts]"
   ]
  },
  {
   "cell_type": "code",
   "execution_count": null,
   "metadata": {
    "ExecuteTime": {
     "end_time": "2021-09-08T18:45:53.274165Z",
     "start_time": "2021-09-08T18:45:53.249249Z"
    }
   },
   "outputs": [],
   "source": [
    "pattern = r'[0-9]'\n",
    "[re.findall(pattern, text) for text in texts]"
   ]
  },
  {
   "cell_type": "markdown",
   "metadata": {},
   "source": [
    "**Note the difference -**"
   ]
  },
  {
   "cell_type": "code",
   "execution_count": null,
   "metadata": {
    "ExecuteTime": {
     "end_time": "2021-09-08T18:46:08.987556Z",
     "start_time": "2021-09-08T18:46:08.970612Z"
    }
   },
   "outputs": [],
   "source": [
    "pattern = r'\\d+'  # + - one or more repetitions\n",
    "text = 'There were 60 students in 5 classes'\n",
    "re.findall(pattern, text)"
   ]
  },
  {
   "cell_type": "code",
   "execution_count": null,
   "metadata": {
    "ExecuteTime": {
     "end_time": "2021-09-08T18:46:09.222225Z",
     "start_time": "2021-09-08T18:46:09.204291Z"
    }
   },
   "outputs": [],
   "source": [
    "pattern = r'\\d'\n",
    "text = 'There were 60 students in 5 classes'\n",
    "re.findall(pattern, text)"
   ]
  },
  {
   "cell_type": "markdown",
   "metadata": {},
   "source": [
    "**But this also doesn't work for all instances**"
   ]
  },
  {
   "cell_type": "code",
   "execution_count": null,
   "metadata": {
    "ExecuteTime": {
     "end_time": "2021-09-08T18:48:22.822165Z",
     "start_time": "2021-09-08T18:48:22.801238Z"
    }
   },
   "outputs": [],
   "source": [
    "pattern = r'\\d+'\n",
    "[re.findall(pattern, text) for text in texts]"
   ]
  },
  {
   "cell_type": "markdown",
   "metadata": {},
   "source": [
    "## re.split()"
   ]
  },
  {
   "cell_type": "code",
   "execution_count": null,
   "metadata": {
    "ExecuteTime": {
     "end_time": "2021-09-08T18:48:48.970954Z",
     "start_time": "2021-09-08T18:48:48.951070Z"
    }
   },
   "outputs": [],
   "source": [
    "space_sep_tokens = [re.split(\"\\s\", text) for text in texts]\n",
    "space_sep_tokens"
   ]
  },
  {
   "cell_type": "markdown",
   "metadata": {},
   "source": [
    "## re.sub()\n",
    "\n",
    "Hint: sub for substitute"
   ]
  },
  {
   "cell_type": "code",
   "execution_count": null,
   "metadata": {
    "ExecuteTime": {
     "end_time": "2021-09-08T18:51:13.536770Z",
     "start_time": "2021-09-08T18:51:13.527484Z"
    }
   },
   "outputs": [],
   "source": [
    "texts"
   ]
  },
  {
   "cell_type": "code",
   "execution_count": null,
   "metadata": {
    "ExecuteTime": {
     "end_time": "2021-09-08T18:49:57.840107Z",
     "start_time": "2021-09-08T18:49:57.828154Z"
    }
   },
   "outputs": [],
   "source": [
    "space_sep_tokens = [re.sub(\"\\d+,?\\d+\", \"X\", text) for text in texts]\n",
    "space_sep_tokens"
   ]
  },
  {
   "cell_type": "code",
   "execution_count": null,
   "metadata": {
    "ExecuteTime": {
     "end_time": "2021-09-08T18:51:01.964734Z",
     "start_time": "2021-09-08T18:51:01.947793Z"
    }
   },
   "outputs": [],
   "source": [
    "space_sep_tokens = [re.sub(\"\\d+\", \"X\", text) for text in texts]\n",
    "space_sep_tokens"
   ]
  },
  {
   "cell_type": "code",
   "execution_count": null,
   "metadata": {
    "ExecuteTime": {
     "end_time": "2021-09-08T18:50:51.603306Z",
     "start_time": "2021-09-08T18:50:51.578391Z"
    }
   },
   "outputs": [],
   "source": [
    "space_sep_tokens = [re.sub(\"\\d+,\\d+\", \"More than 1000\", text) for text in texts]\n",
    "space_sep_tokens"
   ]
  },
  {
   "cell_type": "markdown",
   "metadata": {},
   "source": [
    "# Other Examples"
   ]
  },
  {
   "cell_type": "code",
   "execution_count": null,
   "metadata": {
    "ExecuteTime": {
     "end_time": "2021-09-07T22:02:28.418346Z",
     "start_time": "2021-09-07T22:02:28.401869Z"
    }
   },
   "outputs": [],
   "source": [
    "texts = '''1,508 new cases confirmed in Ireland\\n712 new cases confirmed in Ireland\\n678 new cases confirmed in Ireland\\n20 new cases confirmed in Ireland\\nThere are 200 new cases confirmed in Ireland'''"
   ]
  },
  {
   "cell_type": "code",
   "execution_count": null,
   "metadata": {
    "ExecuteTime": {
     "end_time": "2021-09-07T22:02:28.450385Z",
     "start_time": "2021-09-07T22:02:28.418346Z"
    }
   },
   "outputs": [],
   "source": [
    "re.findall(r'.*\\n', texts)"
   ]
  },
  {
   "cell_type": "code",
   "execution_count": null,
   "metadata": {
    "ExecuteTime": {
     "end_time": "2021-09-07T22:02:28.467937Z",
     "start_time": "2021-09-07T22:02:28.450385Z"
    }
   },
   "outputs": [],
   "source": [
    "re.split('\\n', texts)"
   ]
  },
  {
   "cell_type": "code",
   "execution_count": null,
   "metadata": {
    "ExecuteTime": {
     "end_time": "2021-09-07T22:02:28.494387Z",
     "start_time": "2021-09-07T22:02:28.468032Z"
    }
   },
   "outputs": [],
   "source": [
    "text = 'Please contact us at: contact@abc.com'\n",
    "match = re.search(r'([\\w\\.-]+)@([\\w\\.-]+)', text)\n",
    "\n",
    "print(\"Email address:\", match.group(0))  # The whole matched text\n",
    "print(\"Username:\", match.group(1))  # The username (group 1)\n",
    "print(\"Host:\", match.group(2))  # The host (group 2)"
   ]
  },
  {
   "cell_type": "code",
   "execution_count": null,
   "metadata": {
    "ExecuteTime": {
     "end_time": "2021-09-07T22:02:28.526374Z",
     "start_time": "2021-09-07T22:02:28.510380Z"
    }
   },
   "outputs": [],
   "source": [
    "match.string"
   ]
  },
  {
   "cell_type": "code",
   "execution_count": null,
   "metadata": {
    "ExecuteTime": {
     "end_time": "2021-09-07T22:02:28.542365Z",
     "start_time": "2021-09-07T22:02:28.526374Z"
    }
   },
   "outputs": [],
   "source": [
    "for match in re.finditer(r'([\\w\\.-]+)@([\\w\\.-]+)', text):\n",
    "    print(match.span())"
   ]
  },
  {
   "cell_type": "code",
   "execution_count": null,
   "metadata": {},
   "outputs": [],
   "source": []
  }
 ],
 "metadata": {
  "kernelspec": {
   "display_name": "Python 3",
   "language": "python",
   "name": "python3"
  },
  "language_info": {
   "codemirror_mode": {
    "name": "ipython",
    "version": 3
   },
   "file_extension": ".py",
   "mimetype": "text/x-python",
   "name": "python",
   "nbconvert_exporter": "python",
   "pygments_lexer": "ipython3",
   "version": "3.8.5"
  },
  "toc": {
   "base_numbering": 1,
   "nav_menu": {},
   "number_sections": true,
   "sideBar": true,
   "skip_h1_title": false,
   "title_cell": "Table of Contents",
   "title_sidebar": "Contents",
   "toc_cell": false,
   "toc_position": {},
   "toc_section_display": true,
   "toc_window_display": false
  },
  "varInspector": {
   "cols": {
    "lenName": 16,
    "lenType": 16,
    "lenVar": 40
   },
   "kernels_config": {
    "python": {
     "delete_cmd_postfix": "",
     "delete_cmd_prefix": "del ",
     "library": "var_list.py",
     "varRefreshCmd": "print(var_dic_list())"
    },
    "r": {
     "delete_cmd_postfix": ") ",
     "delete_cmd_prefix": "rm(",
     "library": "var_list.r",
     "varRefreshCmd": "cat(var_dic_list()) "
    }
   },
   "types_to_exclude": [
    "module",
    "function",
    "builtin_function_or_method",
    "instance",
    "_Feature"
   ],
   "window_display": false
  }
 },
 "nbformat": 4,
 "nbformat_minor": 4
}
