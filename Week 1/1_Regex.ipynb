{
 "cells": [
  {
   "cell_type": "markdown",
   "metadata": {},
   "source": [
    "# Regex"
   ]
  },
  {
   "cell_type": "code",
   "execution_count": 1,
   "metadata": {
    "ExecuteTime": {
     "end_time": "2021-09-07T22:02:28.054242Z",
     "start_time": "2021-09-07T22:02:28.039108Z"
    }
   },
   "outputs": [],
   "source": [
    "pattern = r'\\b[A-Za-z0-9._%+-]+@[A-Za-z0-9.-]+\\.[A-Z|a-z]{2,}\\b'\n",
    "email = 'anna.jones@gmail.com'"
   ]
  },
  {
   "cell_type": "code",
   "execution_count": 2,
   "metadata": {
    "ExecuteTime": {
     "end_time": "2021-09-07T22:02:28.087388Z",
     "start_time": "2021-09-07T22:02:28.055347Z"
    }
   },
   "outputs": [
    {
     "name": "stdout",
     "output_type": "stream",
     "text": [
      "It is a match\n"
     ]
    }
   ],
   "source": [
    "import re  # Python Library used for regex operations\n",
    "if re.fullmatch(pattern, email):\n",
    "    print('It is a match')\n",
    "else:\n",
    "    print('Invalid email id. Try again')"
   ]
  },
  {
   "cell_type": "code",
   "execution_count": 3,
   "metadata": {
    "ExecuteTime": {
     "end_time": "2021-09-07T22:02:28.104449Z",
     "start_time": "2021-09-07T22:02:28.087388Z"
    }
   },
   "outputs": [],
   "source": [
    "def validate_email_address(test_your_email):\n",
    "    regex_pattern = r'\\b[A-Za-z0-9._%+-]+@[A-Za-z0-9.-]+\\.[A-Z|a-z]{2,}\\b'\n",
    "    if re.fullmatch(regex_pattern, test_your_email):\n",
    "        print('It is a match')\n",
    "    else:\n",
    "        print('Invalid email id. Try again')"
   ]
  },
  {
   "cell_type": "code",
   "execution_count": 4,
   "metadata": {
    "ExecuteTime": {
     "end_time": "2021-09-07T22:02:28.121451Z",
     "start_time": "2021-09-07T22:02:28.105438Z"
    }
   },
   "outputs": [
    {
     "name": "stdout",
     "output_type": "stream",
     "text": [
      "It is a match\n",
      "Invalid email id. Try again\n",
      "It is a match\n",
      "It is a match\n",
      "Invalid email id. Try again\n"
     ]
    }
   ],
   "source": [
    "validate_email_address('anna.jones@gmail.com')\n",
    "validate_email_address('anna.jonesgml.com')  # Doesn't contain @\n",
    "validate_email_address('anna_jones1991@gmail.com')\n",
    "validate_email_address('anna%20jones@gmail.com')\n",
    "validate_email_address('anna%20jones@gma%il.com') # After @, before dot (.) you can only have A-Z, a-z, 0-9, . or _"
   ]
  },
  {
   "cell_type": "markdown",
   "metadata": {},
   "source": [
    "**Regex Tutorial**\n",
    "\n",
    "1. https://www.datacamp.com/community/tutorials/python-regular-expression-tutorial\n",
    "2. https://www.w3schools.com/python/python_regex.asp\n",
    "\n",
    "**Regex Checker**\n",
    "\n",
    "You can check your regex expression is working or not on texts or strings on these websites.\n",
    "\n",
    "1. https://pythex.org/\n",
    "2. https://regex101.com/\n",
    "3. http://www.pyregex.com/"
   ]
  },
  {
   "cell_type": "markdown",
   "metadata": {},
   "source": [
    "## re.search()"
   ]
  },
  {
   "cell_type": "code",
   "execution_count": 5,
   "metadata": {
    "ExecuteTime": {
     "end_time": "2021-09-07T22:02:28.136599Z",
     "start_time": "2021-09-07T22:02:28.125740Z"
    }
   },
   "outputs": [],
   "source": [
    "texts = ['1,508 new cases confirmed in Ireland',\n",
    "        '1,712 new cases confirmed in Ireland',\n",
    "        '678 new cases confirmed in Ireland',\n",
    "        '20 new cases confirmed in Ireland',\n",
    "        'There are 200 new cases confirmed in Ireland'\n",
    "       ]"
   ]
  },
  {
   "cell_type": "code",
   "execution_count": 6,
   "metadata": {
    "ExecuteTime": {
     "end_time": "2021-09-07T22:02:28.167794Z",
     "start_time": "2021-09-07T22:02:28.140394Z"
    }
   },
   "outputs": [
    {
     "data": {
      "text/plain": [
       "<re.Match object; span=(0, 9), match='1,508 new'>"
      ]
     },
     "execution_count": 6,
     "metadata": {},
     "output_type": "execute_result"
    }
   ],
   "source": [
    "pattern = r'.*new'\n",
    "re.search(pattern, texts[0])"
   ]
  },
  {
   "cell_type": "code",
   "execution_count": 7,
   "metadata": {
    "ExecuteTime": {
     "end_time": "2021-09-07T22:02:28.201461Z",
     "start_time": "2021-09-07T22:02:28.172934Z"
    }
   },
   "outputs": [
    {
     "data": {
      "text/plain": [
       "(0, 9, (0, 9), '1,508 new')"
      ]
     },
     "execution_count": 7,
     "metadata": {},
     "output_type": "execute_result"
    }
   ],
   "source": [
    "re_obj = re.search(pattern, texts[0])\n",
    "re_obj.start(), re_obj.end(), re_obj.span(), re_obj.group()"
   ]
  },
  {
   "cell_type": "code",
   "execution_count": 8,
   "metadata": {
    "ExecuteTime": {
     "end_time": "2021-09-07T22:02:28.235393Z",
     "start_time": "2021-09-07T22:02:28.209457Z"
    }
   },
   "outputs": [
    {
     "data": {
      "text/plain": [
       "['1,508 new', '1,712 new', '678 new', '20 new', 'There are 200 new']"
      ]
     },
     "execution_count": 8,
     "metadata": {},
     "output_type": "execute_result"
    }
   ],
   "source": [
    "list_numbers = [re.search(pattern, text).group() for text in texts]\n",
    "list_numbers"
   ]
  },
  {
   "cell_type": "markdown",
   "metadata": {},
   "source": [
    "In the last list element, we get 'There are' because we have .* before new."
   ]
  },
  {
   "cell_type": "markdown",
   "metadata": {},
   "source": [
    "## re.findall()"
   ]
  },
  {
   "cell_type": "code",
   "execution_count": 9,
   "metadata": {
    "ExecuteTime": {
     "end_time": "2021-09-07T22:02:28.256862Z",
     "start_time": "2021-09-07T22:02:28.235393Z"
    }
   },
   "outputs": [
    {
     "data": {
      "text/plain": [
       "[['Ireland'], ['Ireland'], ['Ireland'], ['Ireland'], ['Ireland']]"
      ]
     },
     "execution_count": 9,
     "metadata": {},
     "output_type": "execute_result"
    }
   ],
   "source": [
    "pattern = r'Ireland'\n",
    "[re.findall(pattern, text) for text in texts]"
   ]
  },
  {
   "cell_type": "code",
   "execution_count": 10,
   "metadata": {
    "ExecuteTime": {
     "end_time": "2021-09-07T22:02:28.270244Z",
     "start_time": "2021-09-07T22:02:28.256862Z"
    }
   },
   "outputs": [
    {
     "data": {
      "text/plain": [
       "[['1', '5', '0', '8'],\n",
       " ['1', '7', '1', '2'],\n",
       " ['6', '7', '8'],\n",
       " ['2', '0'],\n",
       " ['2', '0', '0']]"
      ]
     },
     "execution_count": 10,
     "metadata": {},
     "output_type": "execute_result"
    }
   ],
   "source": [
    "pattern = r'\\d'\n",
    "[re.findall(pattern, text) for text in texts]"
   ]
  },
  {
   "cell_type": "code",
   "execution_count": 11,
   "metadata": {
    "ExecuteTime": {
     "end_time": "2021-09-07T22:02:28.287292Z",
     "start_time": "2021-09-07T22:02:28.270909Z"
    }
   },
   "outputs": [
    {
     "data": {
      "text/plain": [
       "[['1', '5', '0', '8'],\n",
       " ['1', '7', '1', '2'],\n",
       " ['6', '7', '8'],\n",
       " ['2', '0'],\n",
       " ['2', '0', '0']]"
      ]
     },
     "execution_count": 11,
     "metadata": {},
     "output_type": "execute_result"
    }
   ],
   "source": [
    "pattern = r'[0-9]'\n",
    "[re.findall(pattern, text) for text in texts]"
   ]
  },
  {
   "cell_type": "markdown",
   "metadata": {},
   "source": [
    "**Note the difference -**"
   ]
  },
  {
   "cell_type": "code",
   "execution_count": 12,
   "metadata": {
    "ExecuteTime": {
     "end_time": "2021-09-07T22:02:28.308860Z",
     "start_time": "2021-09-07T22:02:28.287663Z"
    }
   },
   "outputs": [
    {
     "data": {
      "text/plain": [
       "['60', '5']"
      ]
     },
     "execution_count": 12,
     "metadata": {},
     "output_type": "execute_result"
    }
   ],
   "source": [
    "pattern = r'\\d+'  # + - one or more repetitions\n",
    "text = 'There were 60 students in 5 classes'\n",
    "re.findall(pattern, text)"
   ]
  },
  {
   "cell_type": "code",
   "execution_count": 13,
   "metadata": {
    "ExecuteTime": {
     "end_time": "2021-09-07T22:02:28.329806Z",
     "start_time": "2021-09-07T22:02:28.312783Z"
    }
   },
   "outputs": [
    {
     "data": {
      "text/plain": [
       "['6', '0', '5']"
      ]
     },
     "execution_count": 13,
     "metadata": {},
     "output_type": "execute_result"
    }
   ],
   "source": [
    "pattern = r'\\d'\n",
    "text = 'There were 60 students in 5 classes'\n",
    "re.findall(pattern, text)"
   ]
  },
  {
   "cell_type": "markdown",
   "metadata": {},
   "source": [
    "**But this also doesn't work for all instances**"
   ]
  },
  {
   "cell_type": "code",
   "execution_count": 14,
   "metadata": {
    "ExecuteTime": {
     "end_time": "2021-09-07T22:02:28.351350Z",
     "start_time": "2021-09-07T22:02:28.329806Z"
    }
   },
   "outputs": [
    {
     "data": {
      "text/plain": [
       "[['1', '508'], ['1', '712'], ['678'], ['20'], ['200']]"
      ]
     },
     "execution_count": 14,
     "metadata": {},
     "output_type": "execute_result"
    }
   ],
   "source": [
    "pattern = r'\\d+'\n",
    "[re.findall(pattern, text) for text in texts]"
   ]
  },
  {
   "cell_type": "markdown",
   "metadata": {},
   "source": [
    "## re.split()"
   ]
  },
  {
   "cell_type": "code",
   "execution_count": 15,
   "metadata": {
    "ExecuteTime": {
     "end_time": "2021-09-07T22:02:28.372820Z",
     "start_time": "2021-09-07T22:02:28.351350Z"
    }
   },
   "outputs": [
    {
     "data": {
      "text/plain": [
       "[['1,508', 'new', 'cases', 'confirmed', 'in', 'Ireland'],\n",
       " ['1,712', 'new', 'cases', 'confirmed', 'in', 'Ireland'],\n",
       " ['678', 'new', 'cases', 'confirmed', 'in', 'Ireland'],\n",
       " ['20', 'new', 'cases', 'confirmed', 'in', 'Ireland'],\n",
       " ['There', 'are', '200', 'new', 'cases', 'confirmed', 'in', 'Ireland']]"
      ]
     },
     "execution_count": 15,
     "metadata": {},
     "output_type": "execute_result"
    }
   ],
   "source": [
    "space_sep_tokens = [re.split(\"\\s\", text) for text in texts]\n",
    "space_sep_tokens"
   ]
  },
  {
   "cell_type": "markdown",
   "metadata": {},
   "source": [
    "## re.sub()\n",
    "\n",
    "Hint: sub for substitute"
   ]
  },
  {
   "cell_type": "code",
   "execution_count": 16,
   "metadata": {
    "ExecuteTime": {
     "end_time": "2021-09-07T22:02:28.385861Z",
     "start_time": "2021-09-07T22:02:28.372820Z"
    }
   },
   "outputs": [
    {
     "data": {
      "text/plain": [
       "['X new cases confirmed in Ireland',\n",
       " 'X new cases confirmed in Ireland',\n",
       " 'X new cases confirmed in Ireland',\n",
       " 'X new cases confirmed in Ireland',\n",
       " 'There are X new cases confirmed in Ireland']"
      ]
     },
     "execution_count": 16,
     "metadata": {},
     "output_type": "execute_result"
    }
   ],
   "source": [
    "space_sep_tokens = [re.sub(\"\\d+,?\\d+\", \"X\", text) for text in texts]\n",
    "space_sep_tokens"
   ]
  },
  {
   "cell_type": "code",
   "execution_count": 17,
   "metadata": {
    "ExecuteTime": {
     "end_time": "2021-09-07T22:02:28.401869Z",
     "start_time": "2021-09-07T22:02:28.385861Z"
    }
   },
   "outputs": [
    {
     "data": {
      "text/plain": [
       "['More than 1000 new cases confirmed in Ireland',\n",
       " 'More than 1000 new cases confirmed in Ireland',\n",
       " '678 new cases confirmed in Ireland',\n",
       " '20 new cases confirmed in Ireland',\n",
       " 'There are 200 new cases confirmed in Ireland']"
      ]
     },
     "execution_count": 17,
     "metadata": {},
     "output_type": "execute_result"
    }
   ],
   "source": [
    "space_sep_tokens = [re.sub(\"\\d+,\\d+\", \"More than 1000\", text) for text in texts]\n",
    "space_sep_tokens"
   ]
  },
  {
   "cell_type": "markdown",
   "metadata": {},
   "source": [
    "# Other Examples"
   ]
  },
  {
   "cell_type": "code",
   "execution_count": 18,
   "metadata": {
    "ExecuteTime": {
     "end_time": "2021-09-07T22:02:28.418346Z",
     "start_time": "2021-09-07T22:02:28.401869Z"
    }
   },
   "outputs": [],
   "source": [
    "texts = '''1,508 new cases confirmed in Ireland\\n712 new cases confirmed in Ireland\\n678 new cases confirmed in Ireland\\n20 new cases confirmed in Ireland\\nThere are 200 new cases confirmed in Ireland'''"
   ]
  },
  {
   "cell_type": "code",
   "execution_count": 19,
   "metadata": {
    "ExecuteTime": {
     "end_time": "2021-09-07T22:02:28.450385Z",
     "start_time": "2021-09-07T22:02:28.418346Z"
    }
   },
   "outputs": [
    {
     "data": {
      "text/plain": [
       "['1,508 new cases confirmed in Ireland\\n',\n",
       " '712 new cases confirmed in Ireland\\n',\n",
       " '678 new cases confirmed in Ireland\\n',\n",
       " '20 new cases confirmed in Ireland\\n']"
      ]
     },
     "execution_count": 19,
     "metadata": {},
     "output_type": "execute_result"
    }
   ],
   "source": [
    "re.findall(r'.*\\n', texts)"
   ]
  },
  {
   "cell_type": "code",
   "execution_count": 20,
   "metadata": {
    "ExecuteTime": {
     "end_time": "2021-09-07T22:02:28.467937Z",
     "start_time": "2021-09-07T22:02:28.450385Z"
    }
   },
   "outputs": [
    {
     "data": {
      "text/plain": [
       "['1,508 new cases confirmed in Ireland',\n",
       " '712 new cases confirmed in Ireland',\n",
       " '678 new cases confirmed in Ireland',\n",
       " '20 new cases confirmed in Ireland',\n",
       " 'There are 200 new cases confirmed in Ireland']"
      ]
     },
     "execution_count": 20,
     "metadata": {},
     "output_type": "execute_result"
    }
   ],
   "source": [
    "re.split('\\n', texts)"
   ]
  },
  {
   "cell_type": "code",
   "execution_count": 21,
   "metadata": {
    "ExecuteTime": {
     "end_time": "2021-09-07T22:02:28.494387Z",
     "start_time": "2021-09-07T22:02:28.468032Z"
    }
   },
   "outputs": [
    {
     "name": "stdout",
     "output_type": "stream",
     "text": [
      "Email address: contact@abc.com\n",
      "Username: contact\n",
      "Host: abc.com\n"
     ]
    }
   ],
   "source": [
    "text = 'Please contact us at: contact@abc.com'\n",
    "match = re.search(r'([\\w\\.-]+)@([\\w\\.-]+)', text)\n",
    "\n",
    "print(\"Email address:\", match.group(0))  # The whole matched text\n",
    "print(\"Username:\", match.group(1))  # The username (group 1)\n",
    "print(\"Host:\", match.group(2))  # The host (group 2)"
   ]
  },
  {
   "cell_type": "code",
   "execution_count": 22,
   "metadata": {
    "ExecuteTime": {
     "end_time": "2021-09-07T22:02:28.526374Z",
     "start_time": "2021-09-07T22:02:28.510380Z"
    }
   },
   "outputs": [
    {
     "data": {
      "text/plain": [
       "'Please contact us at: contact@abc.com'"
      ]
     },
     "execution_count": 22,
     "metadata": {},
     "output_type": "execute_result"
    }
   ],
   "source": [
    "match.string"
   ]
  },
  {
   "cell_type": "code",
   "execution_count": 23,
   "metadata": {
    "ExecuteTime": {
     "end_time": "2021-09-07T22:02:28.542365Z",
     "start_time": "2021-09-07T22:02:28.526374Z"
    }
   },
   "outputs": [
    {
     "name": "stdout",
     "output_type": "stream",
     "text": [
      "(22, 37)\n"
     ]
    }
   ],
   "source": [
    "for match in re.finditer(r'([\\w\\.-]+)@([\\w\\.-]+)', text):\n",
    "    print(match.span())"
   ]
  },
  {
   "cell_type": "code",
   "execution_count": null,
   "metadata": {},
   "outputs": [],
   "source": []
  }
 ],
 "metadata": {
  "kernelspec": {
   "display_name": "Python 3",
   "language": "python",
   "name": "python3"
  },
  "language_info": {
   "codemirror_mode": {
    "name": "ipython",
    "version": 3
   },
   "file_extension": ".py",
   "mimetype": "text/x-python",
   "name": "python",
   "nbconvert_exporter": "python",
   "pygments_lexer": "ipython3",
   "version": "3.8.5"
  },
  "toc": {
   "base_numbering": 1,
   "nav_menu": {},
   "number_sections": true,
   "sideBar": true,
   "skip_h1_title": false,
   "title_cell": "Table of Contents",
   "title_sidebar": "Contents",
   "toc_cell": false,
   "toc_position": {},
   "toc_section_display": true,
   "toc_window_display": false
  },
  "varInspector": {
   "cols": {
    "lenName": 16,
    "lenType": 16,
    "lenVar": 40
   },
   "kernels_config": {
    "python": {
     "delete_cmd_postfix": "",
     "delete_cmd_prefix": "del ",
     "library": "var_list.py",
     "varRefreshCmd": "print(var_dic_list())"
    },
    "r": {
     "delete_cmd_postfix": ") ",
     "delete_cmd_prefix": "rm(",
     "library": "var_list.r",
     "varRefreshCmd": "cat(var_dic_list()) "
    }
   },
   "types_to_exclude": [
    "module",
    "function",
    "builtin_function_or_method",
    "instance",
    "_Feature"
   ],
   "window_display": false
  }
 },
 "nbformat": 4,
 "nbformat_minor": 4
}
