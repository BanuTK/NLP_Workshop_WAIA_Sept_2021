{
 "cells": [
  {
   "cell_type": "markdown",
   "metadata": {},
   "source": [
    "# Imports"
   ]
  },
  {
   "cell_type": "code",
   "execution_count": 1,
   "metadata": {
    "ExecuteTime": {
     "end_time": "2021-09-07T21:52:21.772212Z",
     "start_time": "2021-09-07T21:52:19.384907Z"
    }
   },
   "outputs": [],
   "source": [
    "import pandas as pd\n",
    "import numpy as np\n",
    "\n",
    "pd.set_option('display.max_colwidth', None)\n",
    "\n",
    "import nltk\n",
    "# nltk.download('punkt')\n",
    "# nltk.download('wordnet')\n",
    "# nltk.download('stopwords')\n",
    "# nltk.download('averaged_perceptron_tagger')"
   ]
  },
  {
   "cell_type": "markdown",
   "metadata": {},
   "source": [
    "# Text Wrangling Examples"
   ]
  },
  {
   "cell_type": "code",
   "execution_count": 2,
   "metadata": {
    "ExecuteTime": {
     "end_time": "2021-09-07T21:52:21.782284Z",
     "start_time": "2021-09-07T21:52:21.772212Z"
    }
   },
   "outputs": [],
   "source": [
    "sample = '''<div><p> This will be followed by more of the same with the mist and fog clearing to give a day of unbroken sunshine \n",
    "everywhere on Tuesday and temperatures of between 22 and 27 degrees. It will warmest in the midlands.&nbsp;\n",
    " Temperatures could reach a September record for the century in Ireland, but are unlikely to surpass the 29.1 \n",
    " degrees recorded at Kildare’s Clongowes Wood College on September 1st, 1906. </p>\n",
    "<p> Tuesday, however, will be the last day of the sunshine with rain arriving across the country on Wednesday morning. </p>\n",
    "<p> Temperatures will remain as high as 24 degrees with the warmth punctuated by heavy showers. </p></div>\n",
    "'''"
   ]
  },
  {
   "cell_type": "markdown",
   "metadata": {},
   "source": [
    "## Tokenization"
   ]
  },
  {
   "cell_type": "code",
   "execution_count": 3,
   "metadata": {
    "ExecuteTime": {
     "end_time": "2021-09-07T21:52:21.799388Z",
     "start_time": "2021-09-07T21:52:21.783289Z"
    }
   },
   "outputs": [],
   "source": [
    "from nltk import sent_tokenize, word_tokenize"
   ]
  },
  {
   "cell_type": "code",
   "execution_count": 4,
   "metadata": {
    "ExecuteTime": {
     "end_time": "2021-09-07T21:52:21.824482Z",
     "start_time": "2021-09-07T21:52:21.799388Z"
    }
   },
   "outputs": [
    {
     "name": "stdout",
     "output_type": "stream",
     "text": [
      "['<', 'div', '>', '<', 'p', '>', 'This', 'will', 'be', 'followed', 'by', 'more', 'of', 'the', 'same', 'with', 'the', 'mist', 'and', 'fog', 'clearing', 'to', 'give', 'a', 'day', 'of', 'unbroken', 'sunshine', 'everywhere', 'on', 'Tuesday', 'and', 'temperatures', 'of', 'between', '22', 'and', '27', 'degrees', '.', 'It', 'will', 'warmest', 'in', 'the', 'midlands.', '&', 'nbsp', ';', 'Temperatures', 'could', 'reach', 'a', 'September', 'record', 'for', 'the', 'century', 'in', 'Ireland', ',', 'but', 'are', 'unlikely', 'to', 'surpass', 'the', '29.1', 'degrees', 'recorded', 'at', 'Kildare', '’', 's', 'Clongowes', 'Wood', 'College', 'on', 'September', '1st', ',', '1906', '.', '<', '/p', '>', '<', 'p', '>', 'Tuesday', ',', 'however', ',', 'will', 'be', 'the', 'last', 'day', 'of', 'the', 'sunshine', 'with', 'rain', 'arriving', 'across', 'the', 'country', 'on', 'Wednesday', 'morning', '.', '<', '/p', '>', '<', 'p', '>', 'Temperatures', 'will', 'remain', 'as', 'high', 'as', '24', 'degrees', 'with', 'the', 'warmth', 'punctuated', 'by', 'heavy', 'showers', '.', '<', '/p', '>', '<', '/div', '>']\n"
     ]
    }
   ],
   "source": [
    "print(word_tokenize(sample))"
   ]
  },
  {
   "cell_type": "code",
   "execution_count": 5,
   "metadata": {
    "ExecuteTime": {
     "end_time": "2021-09-07T21:52:21.853698Z",
     "start_time": "2021-09-07T21:52:21.824482Z"
    }
   },
   "outputs": [
    {
     "data": {
      "text/plain": [
       "139"
      ]
     },
     "execution_count": 5,
     "metadata": {},
     "output_type": "execute_result"
    }
   ],
   "source": [
    "len(word_tokenize(sample))"
   ]
  },
  {
   "cell_type": "code",
   "execution_count": 6,
   "metadata": {
    "ExecuteTime": {
     "end_time": "2021-09-07T21:52:21.871441Z",
     "start_time": "2021-09-07T21:52:21.854193Z"
    }
   },
   "outputs": [
    {
     "data": {
      "text/plain": [
       "['<div><p> This will be followed by more of the same with the mist and fog clearing to give a day of unbroken sunshine \\neverywhere on Tuesday and temperatures of between 22 and 27 degrees.',\n",
       " 'It will warmest in the midlands.&nbsp;\\n Temperatures could reach a September record for the century in Ireland, but are unlikely to surpass the 29.1 \\n degrees recorded at Kildare’s Clongowes Wood College on September 1st, 1906.',\n",
       " '</p>\\n<p> Tuesday, however, will be the last day of the sunshine with rain arriving across the country on Wednesday morning.',\n",
       " '</p>\\n<p> Temperatures will remain as high as 24 degrees with the warmth punctuated by heavy showers.',\n",
       " '</p></div>']"
      ]
     },
     "execution_count": 6,
     "metadata": {},
     "output_type": "execute_result"
    }
   ],
   "source": [
    "sent_tokenize(sample)"
   ]
  },
  {
   "cell_type": "code",
   "execution_count": 7,
   "metadata": {
    "ExecuteTime": {
     "end_time": "2021-09-07T21:52:21.893311Z",
     "start_time": "2021-09-07T21:52:21.871441Z"
    }
   },
   "outputs": [
    {
     "data": {
      "text/plain": [
       "5"
      ]
     },
     "execution_count": 7,
     "metadata": {},
     "output_type": "execute_result"
    }
   ],
   "source": [
    "len(sent_tokenize(sample))"
   ]
  },
  {
   "cell_type": "markdown",
   "metadata": {},
   "source": [
    "## Unique Tokens"
   ]
  },
  {
   "cell_type": "code",
   "execution_count": 8,
   "metadata": {
    "ExecuteTime": {
     "end_time": "2021-09-07T21:52:21.909462Z",
     "start_time": "2021-09-07T21:52:21.895644Z"
    }
   },
   "outputs": [
    {
     "name": "stdout",
     "output_type": "stream",
     "text": [
      "{'22', 'between', 'a', 'followed', 'Wood', 'fog', 'however', 'div', 'Wednesday', 'are', '29.1', 'clearing', 'last', 's', 'everywhere', 'be', '>', 'with', 'give', 'temperatures', 'unlikely', 'heavy', '&', 'same', '’', ';', 'recorded', 'day', 'as', 'warmest', 'warmth', 'at', 'to', 'punctuated', 'high', 'sunshine', 'across', 'the', '1st', 'country', 'degrees', 'arriving', 'by', 'on', 'record', 'rain', 'This', '.', 'more', '<', '27', '/div', 'but', 'It', '24', 'Ireland', 'mist', ',', '/p', 'reach', 'September', '1906', 'Tuesday', 'p', 'in', 'surpass', 'of', 'College', 'century', 'for', 'unbroken', 'midlands.', 'nbsp', 'morning', 'Clongowes', 'remain', 'Kildare', 'Temperatures', 'will', 'and', 'showers', 'could'}\n"
     ]
    }
   ],
   "source": [
    "print(set(word_tokenize(sample)))"
   ]
  },
  {
   "cell_type": "code",
   "execution_count": 9,
   "metadata": {
    "ExecuteTime": {
     "end_time": "2021-09-07T21:52:21.934690Z",
     "start_time": "2021-09-07T21:52:21.912307Z"
    }
   },
   "outputs": [
    {
     "name": "stdout",
     "output_type": "stream",
     "text": [
      "82\n"
     ]
    }
   ],
   "source": [
    "print(len(set(word_tokenize(sample))))"
   ]
  },
  {
   "cell_type": "markdown",
   "metadata": {},
   "source": [
    "## Casing"
   ]
  },
  {
   "cell_type": "code",
   "execution_count": 10,
   "metadata": {
    "ExecuteTime": {
     "end_time": "2021-09-07T21:52:21.965231Z",
     "start_time": "2021-09-07T21:52:21.939100Z"
    }
   },
   "outputs": [
    {
     "data": {
      "text/plain": [
       "'<div><p> this will be followed by more of the same with the mist and fog clearing to give a day of unbroken sunshine \\neverywhere on tuesday and temperatures of between 22 and 27 degrees. it will warmest in the midlands.&nbsp;\\n temperatures could reach a september record for the century in ireland, but are unlikely to surpass the 29.1 \\n degrees recorded at kildare’s clongowes wood college on september 1st, 1906. </p>\\n<p> tuesday, however, will be the last day of the sunshine with rain arriving across the country on wednesday morning. </p>\\n<p> temperatures will remain as high as 24 degrees with the warmth punctuated by heavy showers. </p></div>\\n'"
      ]
     },
     "execution_count": 10,
     "metadata": {},
     "output_type": "execute_result"
    }
   ],
   "source": [
    "sample_lower = sample.lower()\n",
    "sample_lower"
   ]
  },
  {
   "cell_type": "code",
   "execution_count": 11,
   "metadata": {
    "ExecuteTime": {
     "end_time": "2021-09-07T21:52:21.981144Z",
     "start_time": "2021-09-07T21:52:21.965231Z"
    }
   },
   "outputs": [
    {
     "name": "stdout",
     "output_type": "stream",
     "text": [
      "['<', 'div', '>', '<', 'p', '>', 'this', 'will', 'be', 'followed', 'by', 'more', 'of', 'the', 'same', 'with', 'the', 'mist', 'and', 'fog', 'clearing', 'to', 'give', 'a', 'day', 'of', 'unbroken', 'sunshine', 'everywhere', 'on', 'tuesday', 'and', 'temperatures', 'of', 'between', '22', 'and', '27', 'degrees', '.', 'it', 'will', 'warmest', 'in', 'the', 'midlands.', '&', 'nbsp', ';', 'temperatures', 'could', 'reach', 'a', 'september', 'record', 'for', 'the', 'century', 'in', 'ireland', ',', 'but', 'are', 'unlikely', 'to', 'surpass', 'the', '29.1', 'degrees', 'recorded', 'at', 'kildare', '’', 's', 'clongowes', 'wood', 'college', 'on', 'september', '1st', ',', '1906', '.', '<', '/p', '>', '<', 'p', '>', 'tuesday', ',', 'however', ',', 'will', 'be', 'the', 'last', 'day', 'of', 'the', 'sunshine', 'with', 'rain', 'arriving', 'across', 'the', 'country', 'on', 'wednesday', 'morning', '.', '<', '/p', '>', '<', 'p', '>', 'temperatures', 'will', 'remain', 'as', 'high', 'as', '24', 'degrees', 'with', 'the', 'warmth', 'punctuated', 'by', 'heavy', 'showers', '.', '<', '/p', '>', '<', '/div', '>']\n"
     ]
    }
   ],
   "source": [
    "print(word_tokenize(sample_lower))"
   ]
  },
  {
   "cell_type": "code",
   "execution_count": 12,
   "metadata": {
    "ExecuteTime": {
     "end_time": "2021-09-07T21:52:22.009482Z",
     "start_time": "2021-09-07T21:52:21.984868Z"
    }
   },
   "outputs": [
    {
     "data": {
      "text/plain": [
       "139"
      ]
     },
     "execution_count": 12,
     "metadata": {},
     "output_type": "execute_result"
    }
   ],
   "source": [
    "len(word_tokenize(sample_lower))"
   ]
  },
  {
   "cell_type": "code",
   "execution_count": 13,
   "metadata": {
    "ExecuteTime": {
     "end_time": "2021-09-07T21:52:22.025460Z",
     "start_time": "2021-09-07T21:52:22.009482Z"
    }
   },
   "outputs": [
    {
     "name": "stdout",
     "output_type": "stream",
     "text": [
      "{'22', 'between', 'a', 'followed', 'fog', 'however', 'div', 'are', '29.1', 'clearing', 'last', 's', 'everywhere', 'be', 'clongowes', '>', 'with', 'give', 'temperatures', 'unlikely', 'heavy', 'wednesday', '&', 'same', '’', ';', 'recorded', 'day', 'as', 'warmest', 'warmth', 'at', 'this', 'to', 'punctuated', 'high', 'kildare', 'sunshine', 'across', 'the', 'college', '1st', 'it', 'country', 'degrees', 'arriving', 'by', 'on', 'record', 'rain', 'tuesday', '.', 'more', '<', '27', '/div', 'but', '24', 'mist', ',', '/p', 'reach', '1906', 'p', 'in', 'surpass', 'of', 'wood', 'century', 'for', 'unbroken', 'midlands.', 'nbsp', 'morning', 'remain', 'september', 'will', 'and', 'showers', 'ireland', 'could'}\n"
     ]
    }
   ],
   "source": [
    "print(set(word_tokenize(sample_lower)))"
   ]
  },
  {
   "cell_type": "code",
   "execution_count": 14,
   "metadata": {
    "ExecuteTime": {
     "end_time": "2021-09-07T21:52:22.037220Z",
     "start_time": "2021-09-07T21:52:22.026068Z"
    }
   },
   "outputs": [
    {
     "name": "stdout",
     "output_type": "stream",
     "text": [
      "81\n"
     ]
    }
   ],
   "source": [
    "print(len(set(word_tokenize(sample_lower))))"
   ]
  },
  {
   "cell_type": "markdown",
   "metadata": {},
   "source": [
    "### Observation:\n",
    "\n",
    "Temparature and temparature is treated as the same word if the casing is same. Else, they will be treated as different words."
   ]
  },
  {
   "cell_type": "markdown",
   "metadata": {},
   "source": [
    "## Remove HTML Tags"
   ]
  },
  {
   "cell_type": "markdown",
   "metadata": {},
   "source": [
    "### Technique 1"
   ]
  },
  {
   "cell_type": "code",
   "execution_count": 15,
   "metadata": {
    "ExecuteTime": {
     "end_time": "2021-09-07T21:52:22.053719Z",
     "start_time": "2021-09-07T21:52:22.037716Z"
    }
   },
   "outputs": [],
   "source": [
    "import re\n",
    "\n",
    "def remove_html_entities(text):\n",
    "    ''' This method removes html tags'''\n",
    "    html_entities = r'<.*?>|&([a-z0-9]+|#[0-9]{1,6}|#x[0-9a-f]{1,6});'\n",
    "    text = re.sub(html_entities, '', text)\n",
    "    return text"
   ]
  },
  {
   "cell_type": "code",
   "execution_count": 16,
   "metadata": {
    "ExecuteTime": {
     "end_time": "2021-09-07T21:52:22.069720Z",
     "start_time": "2021-09-07T21:52:22.053719Z"
    }
   },
   "outputs": [
    {
     "name": "stdout",
     "output_type": "stream",
     "text": [
      " this will be followed by more of the same with the mist and fog clearing to give a day of unbroken sunshine \n",
      "everywhere on tuesday and temperatures of between 22 and 27 degrees. it will warmest in the midlands.\n",
      " temperatures could reach a september record for the century in ireland, but are unlikely to surpass the 29.1 \n",
      " degrees recorded at kildare’s clongowes wood college on september 1st, 1906. \n",
      " tuesday, however, will be the last day of the sunshine with rain arriving across the country on wednesday morning. \n",
      " temperatures will remain as high as 24 degrees with the warmth punctuated by heavy showers. \n",
      "\n"
     ]
    }
   ],
   "source": [
    "print(remove_html_entities(sample_lower))"
   ]
  },
  {
   "cell_type": "code",
   "execution_count": 17,
   "metadata": {
    "ExecuteTime": {
     "end_time": "2021-09-07T21:52:22.095161Z",
     "start_time": "2021-09-07T21:52:22.071003Z"
    }
   },
   "outputs": [
    {
     "name": "stdout",
     "output_type": "stream",
     "text": [
      "72\n"
     ]
    }
   ],
   "source": [
    "sample_lower_html_cleaned = remove_html_entities(sample_lower).lower()\n",
    "print(len(set(word_tokenize(sample_lower_html_cleaned))))"
   ]
  },
  {
   "cell_type": "markdown",
   "metadata": {},
   "source": [
    "### Technique 2"
   ]
  },
  {
   "cell_type": "code",
   "execution_count": 18,
   "metadata": {
    "ExecuteTime": {
     "end_time": "2021-09-07T21:52:22.308388Z",
     "start_time": "2021-09-07T21:52:22.095161Z"
    }
   },
   "outputs": [],
   "source": [
    "import re\n",
    "from bs4 import BeautifulSoup"
   ]
  },
  {
   "cell_type": "code",
   "execution_count": 19,
   "metadata": {
    "ExecuteTime": {
     "end_time": "2021-09-07T21:52:22.331533Z",
     "start_time": "2021-09-07T21:52:22.308388Z"
    }
   },
   "outputs": [
    {
     "data": {
      "text/plain": [
       "<div><p> this will be followed by more of the same with the mist and fog clearing to give a day of unbroken sunshine \n",
       "everywhere on tuesday and temperatures of between 22 and 27 degrees. it will warmest in the midlands. \n",
       " temperatures could reach a september record for the century in ireland, but are unlikely to surpass the 29.1 \n",
       " degrees recorded at kildare’s clongowes wood college on september 1st, 1906. </p>\n",
       "<p> tuesday, however, will be the last day of the sunshine with rain arriving across the country on wednesday morning. </p>\n",
       "<p> temperatures will remain as high as 24 degrees with the warmth punctuated by heavy showers. </p></div>"
      ]
     },
     "execution_count": 19,
     "metadata": {},
     "output_type": "execute_result"
    }
   ],
   "source": [
    "soup = BeautifulSoup(sample_lower, \"html.parser\")\n",
    "soup"
   ]
  },
  {
   "cell_type": "code",
   "execution_count": 20,
   "metadata": {
    "ExecuteTime": {
     "end_time": "2021-09-07T21:52:22.347529Z",
     "start_time": "2021-09-07T21:52:22.331533Z"
    }
   },
   "outputs": [
    {
     "data": {
      "text/plain": [
       "' this will be followed by more of the same with the mist and fog clearing to give a day of unbroken sunshine \\neverywhere on tuesday and temperatures of between 22 and 27 degrees. it will warmest in the midlands.\\xa0\\n temperatures could reach a september record for the century in ireland, but are unlikely to surpass the 29.1 \\n degrees recorded at kildare’s clongowes wood college on september 1st, 1906. \\n tuesday, however, will be the last day of the sunshine with rain arriving across the country on wednesday morning. \\n temperatures will remain as high as 24 degrees with the warmth punctuated by heavy showers. \\n'"
      ]
     },
     "execution_count": 20,
     "metadata": {},
     "output_type": "execute_result"
    }
   ],
   "source": [
    "stripped_text = soup.get_text()\n",
    "stripped_text"
   ]
  },
  {
   "cell_type": "code",
   "execution_count": 21,
   "metadata": {
    "ExecuteTime": {
     "end_time": "2021-09-07T21:52:22.363524Z",
     "start_time": "2021-09-07T21:52:22.347529Z"
    }
   },
   "outputs": [
    {
     "data": {
      "text/plain": [
       "' this will be followed by more of the same with the mist and fog clearing to give a day of unbroken sunshine everywhere on tuesday and temperatures of between 22 and 27 degrees. it will warmest in the midlands. temperatures could reach a september record for the century in ireland, but are unlikely to surpass the 29.1  degrees recorded at kildare’s clongowes wood college on september 1st, 1906.  tuesday, however, will be the last day of the sunshine with rain arriving across the country on wednesday morning.  temperatures will remain as high as 24 degrees with the warmth punctuated by heavy showers. '"
      ]
     },
     "execution_count": 21,
     "metadata": {},
     "output_type": "execute_result"
    }
   ],
   "source": [
    "stripped_text = re.sub(r'[\\t|\\n|\\xa0]+', '', stripped_text)\n",
    "stripped_text"
   ]
  },
  {
   "cell_type": "code",
   "execution_count": 22,
   "metadata": {
    "ExecuteTime": {
     "end_time": "2021-09-07T21:52:22.375663Z",
     "start_time": "2021-09-07T21:52:22.363524Z"
    }
   },
   "outputs": [],
   "source": [
    "def strip_html_tags(text):\n",
    "    soup = BeautifulSoup(text, \"html.parser\")\n",
    "    stripped_text = soup.get_text()\n",
    "    stripped_text = re.sub(r'[\\t|\\n|\\xa0]+', '', stripped_text)\n",
    "    return stripped_text"
   ]
  },
  {
   "cell_type": "code",
   "execution_count": 23,
   "metadata": {
    "ExecuteTime": {
     "end_time": "2021-09-07T21:52:22.392215Z",
     "start_time": "2021-09-07T21:52:22.376161Z"
    }
   },
   "outputs": [
    {
     "data": {
      "text/plain": [
       "' this will be followed by more of the same with the mist and fog clearing to give a day of unbroken sunshine everywhere on tuesday and temperatures of between 22 and 27 degrees. it will warmest in the midlands. temperatures could reach a september record for the century in ireland, but are unlikely to surpass the 29.1  degrees recorded at kildare’s clongowes wood college on september 1st, 1906.  tuesday, however, will be the last day of the sunshine with rain arriving across the country on wednesday morning.  temperatures will remain as high as 24 degrees with the warmth punctuated by heavy showers. '"
      ]
     },
     "execution_count": 23,
     "metadata": {},
     "output_type": "execute_result"
    }
   ],
   "source": [
    "strip_html_tags(sample_lower)"
   ]
  },
  {
   "cell_type": "markdown",
   "metadata": {},
   "source": [
    "## Strip"
   ]
  },
  {
   "cell_type": "code",
   "execution_count": 24,
   "metadata": {
    "ExecuteTime": {
     "end_time": "2021-09-07T21:52:22.408164Z",
     "start_time": "2021-09-07T21:52:22.392215Z"
    }
   },
   "outputs": [],
   "source": [
    "cleaned_text = strip_html_tags(sample_lower)"
   ]
  },
  {
   "cell_type": "code",
   "execution_count": 25,
   "metadata": {
    "ExecuteTime": {
     "end_time": "2021-09-07T21:52:22.424333Z",
     "start_time": "2021-09-07T21:52:22.408164Z"
    }
   },
   "outputs": [
    {
     "data": {
      "text/plain": [
       "'this will be followed by more of the same with the mist and fog clearing to give a day of unbroken sunshine everywhere on tuesday and temperatures of between 22 and 27 degrees. it will warmest in the midlands. temperatures could reach a september record for the century in ireland, but are unlikely to surpass the 29.1  degrees recorded at kildare’s clongowes wood college on september 1st, 1906.  tuesday, however, will be the last day of the sunshine with rain arriving across the country on wednesday morning.  temperatures will remain as high as 24 degrees with the warmth punctuated by heavy showers.'"
      ]
     },
     "execution_count": 25,
     "metadata": {},
     "output_type": "execute_result"
    }
   ],
   "source": [
    "cleaned_text.strip()"
   ]
  },
  {
   "cell_type": "markdown",
   "metadata": {},
   "source": [
    "## Remove Accented Characters\n",
    "\n",
    "\n",
    "This function returns the normal form for the Unicode string unistr. Valid values for form are ‘NFC’, ‘NFKC’, ‘NFD’, and ‘NFKD’."
   ]
  },
  {
   "cell_type": "code",
   "execution_count": 26,
   "metadata": {
    "ExecuteTime": {
     "end_time": "2021-09-07T21:52:22.442006Z",
     "start_time": "2021-09-07T21:52:22.424333Z"
    }
   },
   "outputs": [],
   "source": [
    "sample_accented_text = 'Baile Átha Cliath'"
   ]
  },
  {
   "cell_type": "code",
   "execution_count": 27,
   "metadata": {
    "ExecuteTime": {
     "end_time": "2021-09-07T21:52:22.453563Z",
     "start_time": "2021-09-07T21:52:22.442256Z"
    }
   },
   "outputs": [
    {
     "data": {
      "text/plain": [
       "'Baile Atha Cliath'"
      ]
     },
     "execution_count": 27,
     "metadata": {},
     "output_type": "execute_result"
    }
   ],
   "source": [
    "import unicodedata\n",
    "\n",
    "accent_removed_text = unicodedata.normalize(\n",
    "    'NFKD', sample_accented_text).encode('ascii',\n",
    "                                         'ignore').decode('utf-8', 'ignore')\n",
    "\n",
    "accent_removed_text"
   ]
  },
  {
   "cell_type": "markdown",
   "metadata": {},
   "source": [
    "## Remove Special Characters"
   ]
  },
  {
   "cell_type": "code",
   "execution_count": 28,
   "metadata": {
    "ExecuteTime": {
     "end_time": "2021-09-07T21:52:22.473071Z",
     "start_time": "2021-09-07T21:52:22.454294Z"
    }
   },
   "outputs": [],
   "source": [
    "# Remove everything except alphabets and digits and space\n",
    "\n",
    "pattern = r'[^a-zA-Z0-9\\s]' "
   ]
  },
  {
   "cell_type": "code",
   "execution_count": 29,
   "metadata": {
    "ExecuteTime": {
     "end_time": "2021-09-07T21:52:22.487290Z",
     "start_time": "2021-09-07T21:52:22.473071Z"
    }
   },
   "outputs": [
    {
     "data": {
      "text/plain": [
       "'divp this will be followed by more of the same with the mist and fog clearing to give a day of unbroken sunshine \\neverywhere on tuesday and temperatures of between 22 and 27 degrees it will warmest in the midlandsnbsp\\n temperatures could reach a september record for the century in ireland but are unlikely to surpass the 291 \\n degrees recorded at kildares clongowes wood college on september 1st 1906 p\\np tuesday however will be the last day of the sunshine with rain arriving across the country on wednesday morning p\\np temperatures will remain as high as 24 degrees with the warmth punctuated by heavy showers pdiv\\n'"
      ]
     },
     "execution_count": 29,
     "metadata": {},
     "output_type": "execute_result"
    }
   ],
   "source": [
    "re.sub(pattern, '', sample_lower)"
   ]
  },
  {
   "cell_type": "code",
   "execution_count": 30,
   "metadata": {
    "ExecuteTime": {
     "end_time": "2021-09-07T21:52:22.503480Z",
     "start_time": "2021-09-07T21:52:22.487290Z"
    }
   },
   "outputs": [
    {
     "data": {
      "text/plain": [
       "'Baile tha Cliath'"
      ]
     },
     "execution_count": 30,
     "metadata": {},
     "output_type": "execute_result"
    }
   ],
   "source": [
    "re.sub(pattern, '', sample_accented_text)"
   ]
  },
  {
   "cell_type": "markdown",
   "metadata": {},
   "source": [
    "## Expanding Contractions"
   ]
  },
  {
   "cell_type": "code",
   "execution_count": 31,
   "metadata": {
    "ExecuteTime": {
     "end_time": "2021-09-07T21:52:22.519429Z",
     "start_time": "2021-09-07T21:52:22.503480Z"
    }
   },
   "outputs": [],
   "source": [
    "# !pip install contractions"
   ]
  },
  {
   "cell_type": "code",
   "execution_count": 32,
   "metadata": {
    "ExecuteTime": {
     "end_time": "2021-09-07T21:52:22.553962Z",
     "start_time": "2021-09-07T21:52:22.519429Z"
    }
   },
   "outputs": [],
   "source": [
    "import contractions"
   ]
  },
  {
   "cell_type": "code",
   "execution_count": 33,
   "metadata": {
    "ExecuteTime": {
     "end_time": "2021-09-07T21:52:22.565027Z",
     "start_time": "2021-09-07T21:52:22.553962Z"
    }
   },
   "outputs": [
    {
     "data": {
      "text/plain": [
       "'I am'"
      ]
     },
     "execution_count": 33,
     "metadata": {},
     "output_type": "execute_result"
    }
   ],
   "source": [
    "contractions.fix(\"I'm\")"
   ]
  },
  {
   "cell_type": "code",
   "execution_count": 34,
   "metadata": {
    "ExecuteTime": {
     "end_time": "2021-09-07T21:52:22.581585Z",
     "start_time": "2021-09-07T21:52:22.565525Z"
    }
   },
   "outputs": [
    {
     "data": {
      "text/plain": [
       "[(\"I'm\", 'I am'),\n",
       " (\"I'm'a\", 'I am about to'),\n",
       " (\"I'm'o\", 'I am going to'),\n",
       " (\"I've\", 'I have'),\n",
       " (\"I'll\", 'I will')]"
      ]
     },
     "execution_count": 34,
     "metadata": {},
     "output_type": "execute_result"
    }
   ],
   "source": [
    "list(contractions.contractions_dict.items())[:5]"
   ]
  },
  {
   "cell_type": "code",
   "execution_count": 35,
   "metadata": {
    "ExecuteTime": {
     "end_time": "2021-09-07T21:52:22.597522Z",
     "start_time": "2021-09-07T21:52:22.581585Z"
    }
   },
   "outputs": [
    {
     "data": {
      "text/plain": [
       "329"
      ]
     },
     "execution_count": 35,
     "metadata": {},
     "output_type": "execute_result"
    }
   ],
   "source": [
    "len(list(contractions.contractions_dict.items()))"
   ]
  },
  {
   "cell_type": "markdown",
   "metadata": {},
   "source": [
    "## Stemming"
   ]
  },
  {
   "cell_type": "code",
   "execution_count": 36,
   "metadata": {
    "ExecuteTime": {
     "end_time": "2021-09-07T21:52:22.613530Z",
     "start_time": "2021-09-07T21:52:22.597522Z"
    }
   },
   "outputs": [],
   "source": [
    "from nltk.stem import PorterStemmer\n",
    "\n",
    "ps = PorterStemmer()"
   ]
  },
  {
   "cell_type": "code",
   "execution_count": 37,
   "metadata": {
    "ExecuteTime": {
     "end_time": "2021-09-07T21:52:22.629508Z",
     "start_time": "2021-09-07T21:52:22.613530Z"
    },
    "scrolled": false
   },
   "outputs": [
    {
     "name": "stdout",
     "output_type": "stream",
     "text": [
      "this : thi\n",
      "will : will\n",
      "be : be\n",
      "followed : follow\n",
      "by : by\n",
      "more : more\n",
      "of : of\n",
      "the : the\n",
      "same : same\n",
      "with : with\n",
      "the : the\n",
      "mist : mist\n",
      "and : and\n",
      "fog : fog\n",
      "clearing : clear\n",
      "to : to\n",
      "give : give\n",
      "a : a\n",
      "day : day\n",
      "of : of\n"
     ]
    }
   ],
   "source": [
    "for each in word_tokenize(sample_lower_html_cleaned)[:20]:\n",
    "    print(\"{} : {}\".format(each, ps.stem(each)))"
   ]
  },
  {
   "cell_type": "markdown",
   "metadata": {},
   "source": [
    "## Lemmatization"
   ]
  },
  {
   "cell_type": "code",
   "execution_count": 38,
   "metadata": {
    "ExecuteTime": {
     "end_time": "2021-09-07T21:52:22.649334Z",
     "start_time": "2021-09-07T21:52:22.631798Z"
    }
   },
   "outputs": [],
   "source": [
    "from nltk.stem import WordNetLemmatizer\n",
    "wnl = WordNetLemmatizer()"
   ]
  },
  {
   "cell_type": "code",
   "execution_count": 39,
   "metadata": {
    "ExecuteTime": {
     "end_time": "2021-09-07T21:52:24.241192Z",
     "start_time": "2021-09-07T21:52:22.649334Z"
    }
   },
   "outputs": [
    {
     "data": {
      "text/plain": [
       "'this'"
      ]
     },
     "execution_count": 39,
     "metadata": {},
     "output_type": "execute_result"
    }
   ],
   "source": [
    "wnl.lemmatize('this')"
   ]
  },
  {
   "cell_type": "code",
   "execution_count": 40,
   "metadata": {
    "ExecuteTime": {
     "end_time": "2021-09-07T21:52:24.258734Z",
     "start_time": "2021-09-07T21:52:24.241192Z"
    }
   },
   "outputs": [
    {
     "data": {
      "text/plain": [
       "'clearing'"
      ]
     },
     "execution_count": 40,
     "metadata": {},
     "output_type": "execute_result"
    }
   ],
   "source": [
    "wnl.lemmatize('clearing')"
   ]
  },
  {
   "cell_type": "code",
   "execution_count": 41,
   "metadata": {
    "ExecuteTime": {
     "end_time": "2021-09-07T21:52:24.269085Z",
     "start_time": "2021-09-07T21:52:24.259053Z"
    }
   },
   "outputs": [
    {
     "data": {
      "text/plain": [
       "'clear'"
      ]
     },
     "execution_count": 41,
     "metadata": {},
     "output_type": "execute_result"
    }
   ],
   "source": [
    "wnl.lemmatize('clearing', 'v')"
   ]
  },
  {
   "cell_type": "code",
   "execution_count": 42,
   "metadata": {
    "ExecuteTime": {
     "end_time": "2021-09-07T21:52:24.289904Z",
     "start_time": "2021-09-07T21:52:24.269582Z"
    }
   },
   "outputs": [
    {
     "data": {
      "text/plain": [
       "'clearing'"
      ]
     },
     "execution_count": 42,
     "metadata": {},
     "output_type": "execute_result"
    }
   ],
   "source": [
    "wnl.lemmatize('clearing', 'n')"
   ]
  },
  {
   "cell_type": "code",
   "execution_count": 43,
   "metadata": {
    "ExecuteTime": {
     "end_time": "2021-09-07T21:52:24.305897Z",
     "start_time": "2021-09-07T21:52:24.289904Z"
    }
   },
   "outputs": [
    {
     "name": "stdout",
     "output_type": "stream",
     "text": [
      "this : this\n",
      "will : will\n",
      "be : be\n",
      "followed : followed\n",
      "by : by\n",
      "more : more\n",
      "of : of\n",
      "the : the\n",
      "same : same\n",
      "with : with\n",
      "the : the\n",
      "mist : mist\n",
      "and : and\n",
      "fog : fog\n",
      "clearing : clearing\n",
      "to : to\n",
      "give : give\n",
      "a : a\n",
      "day : day\n",
      "of : of\n"
     ]
    }
   ],
   "source": [
    "for each in word_tokenize(sample_lower_html_cleaned)[:20]:\n",
    "    print(\"{} : {}\".format(each, wnl.lemmatize(each)))"
   ]
  },
  {
   "cell_type": "markdown",
   "metadata": {},
   "source": [
    "You will need a POS tagger to get the POS tag for each token and then apply lemmatization."
   ]
  },
  {
   "cell_type": "markdown",
   "metadata": {},
   "source": [
    "## Stopwords Removal"
   ]
  },
  {
   "cell_type": "code",
   "execution_count": 44,
   "metadata": {
    "ExecuteTime": {
     "end_time": "2021-09-07T21:52:24.321944Z",
     "start_time": "2021-09-07T21:52:24.305897Z"
    }
   },
   "outputs": [
    {
     "name": "stdout",
     "output_type": "stream",
     "text": [
      "['i', 'me', 'my', 'myself', 'we', 'our', 'ours', 'ourselves', 'you', \"you're\", \"you've\", \"you'll\", \"you'd\", 'your', 'yours', 'yourself', 'yourselves', 'he', 'him', 'his', 'himself', 'she', \"she's\", 'her', 'hers', 'herself', 'it', \"it's\", 'its', 'itself', 'they', 'them', 'their', 'theirs', 'themselves', 'what', 'which', 'who', 'whom', 'this', 'that', \"that'll\", 'these', 'those', 'am', 'is', 'are', 'was', 'were', 'be', 'been', 'being', 'have', 'has', 'had', 'having', 'do', 'does', 'did', 'doing', 'a', 'an', 'the', 'and', 'but', 'if', 'or', 'because', 'as', 'until', 'while', 'of', 'at', 'by', 'for', 'with', 'about', 'against', 'between', 'into', 'through', 'during', 'before', 'after', 'above', 'below', 'to', 'from', 'up', 'down', 'in', 'out', 'on', 'off', 'over', 'under', 'again', 'further', 'then', 'once', 'here', 'there', 'when', 'where', 'why', 'how', 'all', 'any', 'both', 'each', 'few', 'more', 'most', 'other', 'some', 'such', 'no', 'nor', 'not', 'only', 'own', 'same', 'so', 'than', 'too', 'very', 's', 't', 'can', 'will', 'just', 'don', \"don't\", 'should', \"should've\", 'now', 'd', 'll', 'm', 'o', 're', 've', 'y', 'ain', 'aren', \"aren't\", 'couldn', \"couldn't\", 'didn', \"didn't\", 'doesn', \"doesn't\", 'hadn', \"hadn't\", 'hasn', \"hasn't\", 'haven', \"haven't\", 'isn', \"isn't\", 'ma', 'mightn', \"mightn't\", 'mustn', \"mustn't\", 'needn', \"needn't\", 'shan', \"shan't\", 'shouldn', \"shouldn't\", 'wasn', \"wasn't\", 'weren', \"weren't\", 'won', \"won't\", 'wouldn', \"wouldn't\"]\n"
     ]
    }
   ],
   "source": [
    "print(nltk.corpus.stopwords.words('english'))"
   ]
  },
  {
   "cell_type": "code",
   "execution_count": 45,
   "metadata": {
    "ExecuteTime": {
     "end_time": "2021-09-07T21:52:24.332966Z",
     "start_time": "2021-09-07T21:52:24.321944Z"
    }
   },
   "outputs": [
    {
     "name": "stdout",
     "output_type": "stream",
     "text": [
      "['this', 'will', 'be', 'followed', 'by', 'more', 'of', 'the', 'same', 'with', 'the', 'mist', 'and', 'fog', 'clearing', 'to', 'give', 'a', 'day', 'of', 'unbroken', 'sunshine', 'everywhere', 'on', 'tuesday', 'and', 'temperatures', 'of', 'between', '22', 'and', '27', 'degrees', '.', 'it', 'will', 'warmest', 'in', 'the', 'midlands', '.', 'temperatures', 'could', 'reach', 'a', 'september', 'record', 'for', 'the', 'century', 'in', 'ireland', ',', 'but', 'are', 'unlikely', 'to', 'surpass', 'the', '29.1', 'degrees', 'recorded', 'at', 'kildare', '’', 's', 'clongowes', 'wood', 'college', 'on', 'september', '1st', ',', '1906.', 'tuesday', ',', 'however', ',', 'will', 'be', 'the', 'last', 'day', 'of', 'the', 'sunshine', 'with', 'rain', 'arriving', 'across', 'the', 'country', 'on', 'wednesday', 'morning', '.', 'temperatures', 'will', 'remain', 'as', 'high', 'as', '24', 'degrees', 'with', 'the', 'warmth', 'punctuated', 'by', 'heavy', 'showers', '.']\n"
     ]
    }
   ],
   "source": [
    "print(word_tokenize(sample_lower_html_cleaned))"
   ]
  },
  {
   "cell_type": "code",
   "execution_count": 46,
   "metadata": {
    "ExecuteTime": {
     "end_time": "2021-09-07T21:52:24.392457Z",
     "start_time": "2021-09-07T21:52:24.332966Z"
    }
   },
   "outputs": [
    {
     "name": "stdout",
     "output_type": "stream",
     "text": [
      "['followed', 'mist', 'fog', 'clearing', 'give', 'day', 'unbroken', 'sunshine', 'everywhere', 'tuesday', 'temperatures', '22', '27', 'degrees', '.', 'warmest', 'midlands', '.', 'temperatures', 'could', 'reach', 'september', 'record', 'century', 'ireland', ',', 'unlikely', 'surpass', '29.1', 'degrees', 'recorded', 'kildare', '’', 'clongowes', 'wood', 'college', 'september', '1st', ',', '1906.', 'tuesday', ',', 'however', ',', 'last', 'day', 'sunshine', 'rain', 'arriving', 'across', 'country', 'wednesday', 'morning', '.', 'temperatures', 'remain', 'high', '24', 'degrees', 'warmth', 'punctuated', 'heavy', 'showers', '.']\n"
     ]
    }
   ],
   "source": [
    "print([\n",
    "    each for each in word_tokenize(sample_lower_html_cleaned)\n",
    "    if each not in nltk.corpus.stopwords.words('english')\n",
    "])"
   ]
  },
  {
   "cell_type": "code",
   "execution_count": 47,
   "metadata": {
    "ExecuteTime": {
     "end_time": "2021-09-07T21:52:24.467322Z",
     "start_time": "2021-09-07T21:52:24.392457Z"
    }
   },
   "outputs": [
    {
     "name": "stdout",
     "output_type": "stream",
     "text": [
      "64\n"
     ]
    }
   ],
   "source": [
    "print(\n",
    "    len([\n",
    "        each for each in word_tokenize(sample_lower_html_cleaned)\n",
    "        if each not in nltk.corpus.stopwords.words('english')\n",
    "    ]))"
   ]
  },
  {
   "cell_type": "markdown",
   "metadata": {},
   "source": [
    "## POS Tagging using spaCy"
   ]
  },
  {
   "cell_type": "code",
   "execution_count": 48,
   "metadata": {
    "ExecuteTime": {
     "end_time": "2021-09-07T21:52:28.699434Z",
     "start_time": "2021-09-07T21:52:24.467322Z"
    }
   },
   "outputs": [],
   "source": [
    "import spacy\n",
    "nlp = spacy.load(\"en_core_web_sm\")\n",
    "doc = nlp(sample_lower_html_cleaned)"
   ]
  },
  {
   "cell_type": "code",
   "execution_count": 49,
   "metadata": {
    "ExecuteTime": {
     "end_time": "2021-09-07T21:52:28.723833Z",
     "start_time": "2021-09-07T21:52:28.699434Z"
    },
    "scrolled": true
   },
   "outputs": [
    {
     "name": "stdout",
     "output_type": "stream",
     "text": [
      "token:     pos: SPACE   tag: _SP\n",
      "token: this   pos: DET   tag: DT\n",
      "token: will   pos: AUX   tag: MD\n",
      "token: be   pos: AUX   tag: VB\n",
      "token: followed   pos: VERB   tag: VBN\n",
      "token: by   pos: ADP   tag: IN\n",
      "token: more   pos: ADJ   tag: JJR\n",
      "token: of   pos: ADP   tag: IN\n",
      "token: the   pos: DET   tag: DT\n",
      "token: same   pos: ADJ   tag: JJ\n",
      "token: with   pos: ADP   tag: IN\n",
      "token: the   pos: DET   tag: DT\n",
      "token: mist   pos: NOUN   tag: NN\n",
      "token: and   pos: CCONJ   tag: CC\n",
      "token: fog   pos: NOUN   tag: NN\n",
      "token: clearing   pos: NOUN   tag: NN\n",
      "token: to   pos: PART   tag: TO\n",
      "token: give   pos: VERB   tag: VB\n",
      "token: a   pos: DET   tag: DT\n",
      "token: day   pos: NOUN   tag: NN\n",
      "token: of   pos: ADP   tag: IN\n",
      "token: unbroken   pos: ADJ   tag: JJ\n",
      "token: sunshine   pos: NOUN   tag: NN\n",
      "token: \n",
      "   pos: SPACE   tag: _SP\n",
      "token: everywhere   pos: ADV   tag: RB\n",
      "token: on   pos: ADP   tag: IN\n",
      "token: tuesday   pos: PROPN   tag: NNP\n",
      "token: and   pos: CCONJ   tag: CC\n",
      "token: temperatures   pos: NOUN   tag: NNS\n",
      "token: of   pos: ADP   tag: IN\n",
      "token: between   pos: ADP   tag: IN\n",
      "token: 22   pos: NUM   tag: CD\n",
      "token: and   pos: CCONJ   tag: CC\n",
      "token: 27   pos: NUM   tag: CD\n",
      "token: degrees   pos: NOUN   tag: NNS\n",
      "token: .   pos: PUNCT   tag: .\n",
      "token: it   pos: PRON   tag: PRP\n",
      "token: will   pos: AUX   tag: MD\n",
      "token: warmest   pos: VERB   tag: VB\n",
      "token: in   pos: ADP   tag: IN\n",
      "token: the   pos: DET   tag: DT\n",
      "token: midlands   pos: NOUN   tag: NNS\n",
      "token: .   pos: PUNCT   tag: .\n",
      "token: \n",
      "    pos: SPACE   tag: _SP\n",
      "token: temperatures   pos: NOUN   tag: NNS\n",
      "token: could   pos: AUX   tag: MD\n",
      "token: reach   pos: VERB   tag: VB\n",
      "token: a   pos: DET   tag: DT\n",
      "token: september   pos: PROPN   tag: NNP\n",
      "token: record   pos: NOUN   tag: NN\n",
      "token: for   pos: ADP   tag: IN\n",
      "token: the   pos: DET   tag: DT\n",
      "token: century   pos: NOUN   tag: NN\n",
      "token: in   pos: ADP   tag: IN\n",
      "token: ireland   pos: PROPN   tag: NNP\n",
      "token: ,   pos: PUNCT   tag: ,\n",
      "token: but   pos: CCONJ   tag: CC\n",
      "token: are   pos: VERB   tag: VBP\n",
      "token: unlikely   pos: ADJ   tag: JJ\n",
      "token: to   pos: PART   tag: TO\n",
      "token: surpass   pos: VERB   tag: VB\n",
      "token: the   pos: DET   tag: DT\n",
      "token: 29.1   pos: NUM   tag: CD\n",
      "token: \n",
      "    pos: SPACE   tag: _SP\n",
      "token: degrees   pos: NOUN   tag: NNS\n",
      "token: recorded   pos: VERB   tag: VBN\n",
      "token: at   pos: ADP   tag: IN\n",
      "token: kildare   pos: PROPN   tag: NNP\n",
      "token: ’s   pos: PART   tag: POS\n",
      "token: clongowes   pos: VERB   tag: VBZ\n",
      "token: wood   pos: NOUN   tag: NN\n",
      "token: college   pos: NOUN   tag: NN\n",
      "token: on   pos: ADP   tag: IN\n",
      "token: september   pos: PROPN   tag: NNP\n",
      "token: 1st   pos: NOUN   tag: NN\n",
      "token: ,   pos: PUNCT   tag: ,\n",
      "token: 1906   pos: NUM   tag: CD\n",
      "token: .   pos: PUNCT   tag: .\n",
      "token: \n",
      "    pos: SPACE   tag: _SP\n",
      "token: tuesday   pos: PROPN   tag: NNP\n",
      "token: ,   pos: PUNCT   tag: ,\n",
      "token: however   pos: ADV   tag: RB\n",
      "token: ,   pos: PUNCT   tag: ,\n",
      "token: will   pos: AUX   tag: MD\n",
      "token: be   pos: VERB   tag: VB\n",
      "token: the   pos: DET   tag: DT\n",
      "token: last   pos: ADJ   tag: JJ\n",
      "token: day   pos: NOUN   tag: NN\n",
      "token: of   pos: ADP   tag: IN\n",
      "token: the   pos: DET   tag: DT\n",
      "token: sunshine   pos: NOUN   tag: NN\n",
      "token: with   pos: ADP   tag: IN\n",
      "token: rain   pos: NOUN   tag: NN\n",
      "token: arriving   pos: VERB   tag: VBG\n",
      "token: across   pos: ADP   tag: IN\n",
      "token: the   pos: DET   tag: DT\n",
      "token: country   pos: NOUN   tag: NN\n",
      "token: on   pos: ADP   tag: IN\n",
      "token: wednesday   pos: PROPN   tag: NNP\n",
      "token: morning   pos: NOUN   tag: NN\n",
      "token: .   pos: PUNCT   tag: .\n",
      "token: \n",
      "    pos: SPACE   tag: _SP\n",
      "token: temperatures   pos: NOUN   tag: NNS\n",
      "token: will   pos: AUX   tag: MD\n",
      "token: remain   pos: VERB   tag: VB\n",
      "token: as   pos: ADV   tag: RB\n",
      "token: high   pos: ADJ   tag: JJ\n",
      "token: as   pos: ADP   tag: IN\n",
      "token: 24   pos: NUM   tag: CD\n",
      "token: degrees   pos: NOUN   tag: NNS\n",
      "token: with   pos: ADP   tag: IN\n",
      "token: the   pos: DET   tag: DT\n",
      "token: warmth   pos: NOUN   tag: NN\n",
      "token: punctuated   pos: VERB   tag: VBN\n",
      "token: by   pos: ADP   tag: IN\n",
      "token: heavy   pos: ADJ   tag: JJ\n",
      "token: showers   pos: NOUN   tag: NNS\n",
      "token: .   pos: PUNCT   tag: .\n",
      "token: \n",
      "   pos: SPACE   tag: _SP\n"
     ]
    }
   ],
   "source": [
    "for token in doc:\n",
    "    print(\"token: {}   pos: {}   tag: {}\".format(token.text, token.pos_, token.tag_))"
   ]
  },
  {
   "cell_type": "markdown",
   "metadata": {},
   "source": [
    "## Named Entity Recognition using spaCy"
   ]
  },
  {
   "cell_type": "code",
   "execution_count": 50,
   "metadata": {
    "ExecuteTime": {
     "end_time": "2021-09-07T21:52:28.739834Z",
     "start_time": "2021-09-07T21:52:28.723833Z"
    }
   },
   "outputs": [
    {
     "name": "stdout",
     "output_type": "stream",
     "text": [
      "token: tuesday   entity: DATE\n",
      "token: between 22   entity: CARDINAL\n",
      "token: 27 degrees   entity: QUANTITY\n",
      "token: september   entity: DATE\n",
      "token: the century   entity: DATE\n",
      "token: ireland   entity: GPE\n",
      "token: 29.1 \n",
      "    entity: QUANTITY\n",
      "token: september 1st, 1906   entity: DATE\n",
      "token: tuesday   entity: DATE\n",
      "token: the last day   entity: DATE\n",
      "token: wednesday   entity: DATE\n",
      "token: morning   entity: TIME\n",
      "token: as high as   entity: CARDINAL\n",
      "token: 24 degrees   entity: QUANTITY\n"
     ]
    }
   ],
   "source": [
    "for token_ent in doc.ents:\n",
    "    print(\"token: {}   entity: {}\".format(token_ent.text, token_ent.label_))"
   ]
  },
  {
   "cell_type": "code",
   "execution_count": null,
   "metadata": {},
   "outputs": [],
   "source": []
  }
 ],
 "metadata": {
  "kernelspec": {
   "display_name": "Python 3",
   "language": "python",
   "name": "python3"
  },
  "language_info": {
   "codemirror_mode": {
    "name": "ipython",
    "version": 3
   },
   "file_extension": ".py",
   "mimetype": "text/x-python",
   "name": "python",
   "nbconvert_exporter": "python",
   "pygments_lexer": "ipython3",
   "version": "3.8.5"
  },
  "toc": {
   "base_numbering": 1,
   "nav_menu": {},
   "number_sections": true,
   "sideBar": true,
   "skip_h1_title": false,
   "title_cell": "Table of Contents",
   "title_sidebar": "Contents",
   "toc_cell": false,
   "toc_position": {},
   "toc_section_display": true,
   "toc_window_display": true
  },
  "varInspector": {
   "cols": {
    "lenName": 16,
    "lenType": 16,
    "lenVar": 40
   },
   "kernels_config": {
    "python": {
     "delete_cmd_postfix": "",
     "delete_cmd_prefix": "del ",
     "library": "var_list.py",
     "varRefreshCmd": "print(var_dic_list())"
    },
    "r": {
     "delete_cmd_postfix": ") ",
     "delete_cmd_prefix": "rm(",
     "library": "var_list.r",
     "varRefreshCmd": "cat(var_dic_list()) "
    }
   },
   "types_to_exclude": [
    "module",
    "function",
    "builtin_function_or_method",
    "instance",
    "_Feature"
   ],
   "window_display": false
  }
 },
 "nbformat": 4,
 "nbformat_minor": 4
}
