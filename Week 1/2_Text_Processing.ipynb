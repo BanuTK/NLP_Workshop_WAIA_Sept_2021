{
 "cells": [
  {
   "cell_type": "markdown",
   "metadata": {},
   "source": [
    "# Imports"
   ]
  },
  {
   "cell_type": "code",
   "execution_count": null,
   "metadata": {
    "ExecuteTime": {
     "end_time": "2021-09-08T18:54:12.992210Z",
     "start_time": "2021-09-08T18:54:09.643180Z"
    }
   },
   "outputs": [],
   "source": [
    "import pandas as pd\n",
    "import numpy as np\n",
    "\n",
    "pd.set_option('display.max_colwidth', None)\n",
    "\n",
    "import nltk\n",
    "nltk.download('punkt')\n",
    "nltk.download('wordnet')\n",
    "nltk.download('stopwords')\n",
    "nltk.download('averaged_perceptron_tagger')"
   ]
  },
  {
   "cell_type": "markdown",
   "metadata": {},
   "source": [
    "# Text Wrangling Examples"
   ]
  },
  {
   "cell_type": "code",
   "execution_count": null,
   "metadata": {
    "ExecuteTime": {
     "end_time": "2021-09-08T18:55:36.231279Z",
     "start_time": "2021-09-08T18:55:36.221317Z"
    }
   },
   "outputs": [],
   "source": [
    "sample = '''<div><p> This will be followed by more of the same with the mist and fog clearing to give a day of unbroken sunshine \n",
    "everywhere on Tuesday and temperatures of between 22 and 27 degrees. It will warmest in the midlands.&nbsp;\n",
    " Temperatures could reach a September record for the century in Ireland, but are unlikely to surpass the 29.1 \n",
    " degrees recorded at Kildare’s Clongowes Wood College on September 1st, 1906. </p>\n",
    "<p> Tuesday, however, will be the last day of the sunshine with rain arriving across the country on Wednesday morning. </p>\n",
    "<p> Temperatures will remain as high as 24 degrees with the warmth punctuated by heavy showers. </p></div>\n",
    "'''"
   ]
  },
  {
   "cell_type": "code",
   "execution_count": null,
   "metadata": {
    "ExecuteTime": {
     "end_time": "2021-09-08T18:58:42.108913Z",
     "start_time": "2021-09-08T18:58:42.087036Z"
    }
   },
   "outputs": [],
   "source": [
    "len(sample)"
   ]
  },
  {
   "cell_type": "markdown",
   "metadata": {},
   "source": [
    "## Tokenization"
   ]
  },
  {
   "cell_type": "code",
   "execution_count": null,
   "metadata": {
    "ExecuteTime": {
     "end_time": "2021-09-08T18:55:01.095295Z",
     "start_time": "2021-09-08T18:55:01.085331Z"
    }
   },
   "outputs": [],
   "source": [
    "from nltk import sent_tokenize, word_tokenize"
   ]
  },
  {
   "cell_type": "code",
   "execution_count": null,
   "metadata": {
    "ExecuteTime": {
     "end_time": "2021-09-08T18:55:38.565293Z",
     "start_time": "2021-09-08T18:55:38.512464Z"
    }
   },
   "outputs": [],
   "source": [
    "print(word_tokenize(sample))"
   ]
  },
  {
   "cell_type": "code",
   "execution_count": null,
   "metadata": {
    "ExecuteTime": {
     "end_time": "2021-09-08T18:57:05.169258Z",
     "start_time": "2021-09-08T18:57:05.131384Z"
    }
   },
   "outputs": [],
   "source": [
    "len(word_tokenize(sample))"
   ]
  },
  {
   "cell_type": "code",
   "execution_count": null,
   "metadata": {
    "ExecuteTime": {
     "end_time": "2021-09-08T18:57:14.975760Z",
     "start_time": "2021-09-08T18:57:14.953835Z"
    }
   },
   "outputs": [],
   "source": [
    "sent_tokenize(sample)"
   ]
  },
  {
   "cell_type": "code",
   "execution_count": null,
   "metadata": {
    "ExecuteTime": {
     "end_time": "2021-09-08T18:58:02.795587Z",
     "start_time": "2021-09-08T18:58:02.776655Z"
    }
   },
   "outputs": [],
   "source": [
    "len(sent_tokenize(sample))"
   ]
  },
  {
   "cell_type": "code",
   "execution_count": null,
   "metadata": {
    "ExecuteTime": {
     "end_time": "2021-09-08T18:59:17.677872Z",
     "start_time": "2021-09-08T18:59:17.658936Z"
    }
   },
   "outputs": [],
   "source": [
    "for each_seq in sent_tokenize(sample):\n",
    "    print('-------')\n",
    "    print(word_tokenize(each_seq))"
   ]
  },
  {
   "cell_type": "markdown",
   "metadata": {},
   "source": [
    "## Unique Tokens"
   ]
  },
  {
   "cell_type": "code",
   "execution_count": null,
   "metadata": {
    "ExecuteTime": {
     "end_time": "2021-09-08T18:59:47.655401Z",
     "start_time": "2021-09-08T18:59:47.635469Z"
    }
   },
   "outputs": [],
   "source": [
    "print(set(word_tokenize(sample)))"
   ]
  },
  {
   "cell_type": "code",
   "execution_count": null,
   "metadata": {
    "ExecuteTime": {
     "end_time": "2021-09-08T19:00:47.541131Z",
     "start_time": "2021-09-08T19:00:47.518207Z"
    }
   },
   "outputs": [],
   "source": [
    "print(len(set(word_tokenize(sample))))"
   ]
  },
  {
   "cell_type": "markdown",
   "metadata": {},
   "source": [
    "## Casing"
   ]
  },
  {
   "cell_type": "code",
   "execution_count": null,
   "metadata": {
    "ExecuteTime": {
     "end_time": "2021-09-08T19:01:16.782970Z",
     "start_time": "2021-09-08T19:01:16.762039Z"
    }
   },
   "outputs": [],
   "source": [
    "sample_lower = sample.lower()\n",
    "sample_lower"
   ]
  },
  {
   "cell_type": "code",
   "execution_count": null,
   "metadata": {
    "ExecuteTime": {
     "end_time": "2021-09-08T19:01:22.955412Z",
     "start_time": "2021-09-08T19:01:22.935490Z"
    }
   },
   "outputs": [],
   "source": [
    "print(word_tokenize(sample_lower))"
   ]
  },
  {
   "cell_type": "code",
   "execution_count": null,
   "metadata": {
    "ExecuteTime": {
     "end_time": "2021-09-08T19:01:28.929324Z",
     "start_time": "2021-09-08T19:01:28.909395Z"
    }
   },
   "outputs": [],
   "source": [
    "len(word_tokenize(sample_lower))"
   ]
  },
  {
   "cell_type": "code",
   "execution_count": null,
   "metadata": {
    "ExecuteTime": {
     "end_time": "2021-09-08T19:01:30.586329Z",
     "start_time": "2021-09-08T19:01:30.569823Z"
    }
   },
   "outputs": [],
   "source": [
    "print(set(word_tokenize(sample_lower)))"
   ]
  },
  {
   "cell_type": "code",
   "execution_count": null,
   "metadata": {
    "ExecuteTime": {
     "end_time": "2021-09-08T19:01:34.638196Z",
     "start_time": "2021-09-08T19:01:34.613750Z"
    }
   },
   "outputs": [],
   "source": [
    "print(len(set(word_tokenize(sample_lower))))"
   ]
  },
  {
   "cell_type": "markdown",
   "metadata": {},
   "source": [
    "### Observation:\n",
    "\n",
    "Temparature and temparature is treated as the same word if the casing is same. Else, they will be treated as different words."
   ]
  },
  {
   "cell_type": "markdown",
   "metadata": {},
   "source": [
    "## Remove HTML Tags"
   ]
  },
  {
   "cell_type": "markdown",
   "metadata": {},
   "source": [
    "### Technique 1"
   ]
  },
  {
   "cell_type": "code",
   "execution_count": null,
   "metadata": {
    "ExecuteTime": {
     "end_time": "2021-09-08T19:02:54.756140Z",
     "start_time": "2021-09-08T19:02:54.738202Z"
    }
   },
   "outputs": [],
   "source": [
    "import re\n",
    "\n",
    "def remove_html_entities(text):\n",
    "    ''' This method removes html tags'''\n",
    "    html_entities = r'<.*?>|&([a-z0-9]+|#[0-9]{1,6}|#x[0-9a-f]{1,6});'\n",
    "    text = re.sub(html_entities, '', text)\n",
    "    return text"
   ]
  },
  {
   "cell_type": "code",
   "execution_count": null,
   "metadata": {
    "ExecuteTime": {
     "end_time": "2021-09-08T19:02:56.498089Z",
     "start_time": "2021-09-08T19:02:56.477160Z"
    }
   },
   "outputs": [],
   "source": [
    "print(remove_html_entities(sample_lower))"
   ]
  },
  {
   "cell_type": "code",
   "execution_count": null,
   "metadata": {
    "ExecuteTime": {
     "end_time": "2021-09-08T19:03:29.060155Z",
     "start_time": "2021-09-08T19:03:29.049826Z"
    }
   },
   "outputs": [],
   "source": [
    "sample_lower_html_cleaned = remove_html_entities(sample_lower).lower()\n",
    "print(len(set(word_tokenize(sample_lower_html_cleaned))))"
   ]
  },
  {
   "cell_type": "markdown",
   "metadata": {},
   "source": [
    "### Technique 2"
   ]
  },
  {
   "cell_type": "code",
   "execution_count": null,
   "metadata": {
    "ExecuteTime": {
     "end_time": "2021-09-08T19:04:03.002510Z",
     "start_time": "2021-09-08T19:04:02.715294Z"
    }
   },
   "outputs": [],
   "source": [
    "import re\n",
    "from bs4 import BeautifulSoup"
   ]
  },
  {
   "cell_type": "code",
   "execution_count": null,
   "metadata": {
    "ExecuteTime": {
     "end_time": "2021-09-08T19:04:21.748365Z",
     "start_time": "2021-09-08T19:04:21.726429Z"
    }
   },
   "outputs": [],
   "source": [
    "soup = BeautifulSoup(sample_lower, \"html.parser\")\n",
    "soup"
   ]
  },
  {
   "cell_type": "code",
   "execution_count": null,
   "metadata": {
    "ExecuteTime": {
     "end_time": "2021-09-08T19:04:37.248023Z",
     "start_time": "2021-09-08T19:04:37.227095Z"
    }
   },
   "outputs": [],
   "source": [
    "stripped_text = soup.get_text()\n",
    "stripped_text"
   ]
  },
  {
   "cell_type": "code",
   "execution_count": null,
   "metadata": {
    "ExecuteTime": {
     "end_time": "2021-09-08T19:05:09.589624Z",
     "start_time": "2021-09-08T19:05:09.569702Z"
    }
   },
   "outputs": [],
   "source": [
    "stripped_text = re.sub(r'[\\t|\\n|\\xa0]+', '', stripped_text)\n",
    "stripped_text"
   ]
  },
  {
   "cell_type": "code",
   "execution_count": null,
   "metadata": {
    "ExecuteTime": {
     "end_time": "2021-09-08T19:05:36.099052Z",
     "start_time": "2021-09-08T19:05:36.079112Z"
    }
   },
   "outputs": [],
   "source": [
    "def strip_html_tags(text):\n",
    "    soup = BeautifulSoup(text, \"html.parser\")\n",
    "    stripped_text = soup.get_text()\n",
    "    stripped_text = re.sub(r'[\\t|\\n|\\xa0]+', '', stripped_text)\n",
    "    return stripped_text"
   ]
  },
  {
   "cell_type": "code",
   "execution_count": null,
   "metadata": {
    "ExecuteTime": {
     "end_time": "2021-09-08T19:05:47.174167Z",
     "start_time": "2021-09-08T19:05:47.151727Z"
    }
   },
   "outputs": [],
   "source": [
    "strip_html_tags(sample_lower)"
   ]
  },
  {
   "cell_type": "markdown",
   "metadata": {},
   "source": [
    "## Strip"
   ]
  },
  {
   "cell_type": "code",
   "execution_count": null,
   "metadata": {
    "ExecuteTime": {
     "end_time": "2021-09-08T19:06:19.094581Z",
     "start_time": "2021-09-08T19:06:19.087603Z"
    }
   },
   "outputs": [],
   "source": [
    "cleaned_text = strip_html_tags(sample_lower)"
   ]
  },
  {
   "cell_type": "code",
   "execution_count": null,
   "metadata": {
    "ExecuteTime": {
     "end_time": "2021-09-08T19:06:20.597247Z",
     "start_time": "2021-09-08T19:06:20.584910Z"
    }
   },
   "outputs": [],
   "source": [
    "cleaned_text.strip()"
   ]
  },
  {
   "cell_type": "markdown",
   "metadata": {},
   "source": [
    "## Remove Accented Characters\n",
    "\n",
    "\n",
    "This function returns the normal form for the Unicode string unistr. Valid values for form are ‘NFC’, ‘NFKC’, ‘NFD’, and ‘NFKD’."
   ]
  },
  {
   "cell_type": "code",
   "execution_count": null,
   "metadata": {
    "ExecuteTime": {
     "end_time": "2021-09-08T19:06:39.607822Z",
     "start_time": "2021-09-08T19:06:39.588995Z"
    }
   },
   "outputs": [],
   "source": [
    "sample_accented_text = 'Baile Átha Cliath'"
   ]
  },
  {
   "cell_type": "code",
   "execution_count": null,
   "metadata": {
    "ExecuteTime": {
     "end_time": "2021-09-08T19:06:41.758040Z",
     "start_time": "2021-09-08T19:06:41.736105Z"
    }
   },
   "outputs": [],
   "source": [
    "import unicodedata\n",
    "\n",
    "accent_removed_text = unicodedata.normalize(\n",
    "    'NFKD', sample_accented_text).encode('ascii',\n",
    "                                         'ignore').decode('utf-8', 'ignore')\n",
    "\n",
    "accent_removed_text"
   ]
  },
  {
   "cell_type": "markdown",
   "metadata": {},
   "source": [
    "## Remove Special Characters"
   ]
  },
  {
   "cell_type": "code",
   "execution_count": null,
   "metadata": {
    "ExecuteTime": {
     "end_time": "2021-09-08T19:07:29.929248Z",
     "start_time": "2021-09-08T19:07:29.918285Z"
    }
   },
   "outputs": [],
   "source": [
    "# Remove everything except alphabets and digits and space\n",
    "\n",
    "pattern = r'[^a-zA-Z0-9\\s]' "
   ]
  },
  {
   "cell_type": "code",
   "execution_count": null,
   "metadata": {
    "ExecuteTime": {
     "end_time": "2021-09-08T19:07:31.618088Z",
     "start_time": "2021-09-08T19:07:31.608755Z"
    }
   },
   "outputs": [],
   "source": [
    "re.sub(pattern, '', sample_lower)"
   ]
  },
  {
   "cell_type": "code",
   "execution_count": null,
   "metadata": {
    "ExecuteTime": {
     "end_time": "2021-09-08T19:07:36.841061Z",
     "start_time": "2021-09-08T19:07:36.821125Z"
    }
   },
   "outputs": [],
   "source": [
    "re.sub(pattern, '', sample_accented_text)"
   ]
  },
  {
   "cell_type": "markdown",
   "metadata": {},
   "source": [
    "## Expanding Contractions"
   ]
  },
  {
   "cell_type": "code",
   "execution_count": null,
   "metadata": {
    "ExecuteTime": {
     "end_time": "2021-09-07T21:52:22.519429Z",
     "start_time": "2021-09-07T21:52:22.503480Z"
    }
   },
   "outputs": [],
   "source": [
    "# !pip install contractions"
   ]
  },
  {
   "cell_type": "code",
   "execution_count": null,
   "metadata": {
    "ExecuteTime": {
     "end_time": "2021-09-08T19:08:43.318128Z",
     "start_time": "2021-09-08T19:08:43.267297Z"
    }
   },
   "outputs": [],
   "source": [
    "import contractions"
   ]
  },
  {
   "cell_type": "code",
   "execution_count": null,
   "metadata": {
    "ExecuteTime": {
     "end_time": "2021-09-08T19:08:47.046706Z",
     "start_time": "2021-09-08T19:08:47.027769Z"
    }
   },
   "outputs": [],
   "source": [
    "contractions.fix(\"I'm\")"
   ]
  },
  {
   "cell_type": "code",
   "execution_count": null,
   "metadata": {
    "ExecuteTime": {
     "end_time": "2021-09-08T19:08:48.858452Z",
     "start_time": "2021-09-08T19:08:48.832536Z"
    }
   },
   "outputs": [],
   "source": [
    "list(contractions.contractions_dict.items())[:5]"
   ]
  },
  {
   "cell_type": "code",
   "execution_count": null,
   "metadata": {
    "ExecuteTime": {
     "end_time": "2021-09-08T19:09:28.982474Z",
     "start_time": "2021-09-08T19:09:28.961532Z"
    }
   },
   "outputs": [],
   "source": [
    "len(list(contractions.contractions_dict.items()))"
   ]
  },
  {
   "cell_type": "markdown",
   "metadata": {},
   "source": [
    "## Stemming"
   ]
  },
  {
   "cell_type": "code",
   "execution_count": null,
   "metadata": {
    "ExecuteTime": {
     "end_time": "2021-09-08T19:11:12.506751Z",
     "start_time": "2021-09-08T19:11:12.487812Z"
    }
   },
   "outputs": [],
   "source": [
    "from nltk.stem import PorterStemmer\n",
    "\n",
    "ps = PorterStemmer()"
   ]
  },
  {
   "cell_type": "code",
   "execution_count": null,
   "metadata": {
    "ExecuteTime": {
     "end_time": "2021-09-08T19:11:26.349322Z",
     "start_time": "2021-09-08T19:11:26.329388Z"
    }
   },
   "outputs": [],
   "source": [
    "ps.stem(\"important\")"
   ]
  },
  {
   "cell_type": "code",
   "execution_count": null,
   "metadata": {
    "ExecuteTime": {
     "end_time": "2021-09-08T19:11:35.222112Z",
     "start_time": "2021-09-08T19:11:35.201182Z"
    }
   },
   "outputs": [],
   "source": [
    "ps.stem(\"bravery\")"
   ]
  },
  {
   "cell_type": "code",
   "execution_count": null,
   "metadata": {
    "ExecuteTime": {
     "end_time": "2021-09-08T19:12:23.259508Z",
     "start_time": "2021-09-08T19:12:23.238052Z"
    },
    "scrolled": false
   },
   "outputs": [],
   "source": [
    "for each in word_tokenize(sample_lower_html_cleaned)[:20]:\n",
    "    print(\"{} : {}\".format(each, ps.stem(each)))"
   ]
  },
  {
   "cell_type": "markdown",
   "metadata": {},
   "source": [
    "## Lemmatization"
   ]
  },
  {
   "cell_type": "code",
   "execution_count": null,
   "metadata": {
    "ExecuteTime": {
     "end_time": "2021-09-08T19:14:04.485730Z",
     "start_time": "2021-09-08T19:14:04.472793Z"
    }
   },
   "outputs": [],
   "source": [
    "from nltk.stem import WordNetLemmatizer\n",
    "wnl = WordNetLemmatizer()"
   ]
  },
  {
   "cell_type": "code",
   "execution_count": null,
   "metadata": {
    "ExecuteTime": {
     "end_time": "2021-09-08T19:14:22.615405Z",
     "start_time": "2021-09-08T19:14:20.665230Z"
    }
   },
   "outputs": [],
   "source": [
    "wnl.lemmatize('this')"
   ]
  },
  {
   "cell_type": "code",
   "execution_count": null,
   "metadata": {
    "ExecuteTime": {
     "end_time": "2021-09-08T19:14:24.697135Z",
     "start_time": "2021-09-08T19:14:24.676208Z"
    }
   },
   "outputs": [],
   "source": [
    "wnl.lemmatize('clearing')"
   ]
  },
  {
   "cell_type": "code",
   "execution_count": null,
   "metadata": {
    "ExecuteTime": {
     "end_time": "2021-09-08T19:14:26.335693Z",
     "start_time": "2021-09-08T19:14:26.314773Z"
    }
   },
   "outputs": [],
   "source": [
    "wnl.lemmatize('clearing', 'v')"
   ]
  },
  {
   "cell_type": "code",
   "execution_count": null,
   "metadata": {
    "ExecuteTime": {
     "end_time": "2021-09-08T19:14:44.169824Z",
     "start_time": "2021-09-08T19:14:44.157884Z"
    }
   },
   "outputs": [],
   "source": [
    "wnl.lemmatize('clearing', 'n')"
   ]
  },
  {
   "cell_type": "code",
   "execution_count": null,
   "metadata": {
    "ExecuteTime": {
     "end_time": "2021-09-08T19:14:47.342289Z",
     "start_time": "2021-09-08T19:14:47.319839Z"
    }
   },
   "outputs": [],
   "source": [
    "for each in word_tokenize(sample_lower_html_cleaned)[:20]:\n",
    "    print(\"{} : {}\".format(each, wnl.lemmatize(each)))"
   ]
  },
  {
   "cell_type": "markdown",
   "metadata": {},
   "source": [
    "You will need a POS tagger to get the POS tag for each token and then apply lemmatization."
   ]
  },
  {
   "cell_type": "markdown",
   "metadata": {},
   "source": [
    "## Stopwords Removal"
   ]
  },
  {
   "cell_type": "code",
   "execution_count": null,
   "metadata": {
    "ExecuteTime": {
     "end_time": "2021-09-08T19:15:33.791922Z",
     "start_time": "2021-09-08T19:15:33.746071Z"
    }
   },
   "outputs": [],
   "source": [
    "print(nltk.corpus.stopwords.words('english'))"
   ]
  },
  {
   "cell_type": "code",
   "execution_count": null,
   "metadata": {
    "ExecuteTime": {
     "end_time": "2021-09-08T19:15:59.270163Z",
     "start_time": "2021-09-08T19:15:59.251229Z"
    }
   },
   "outputs": [],
   "source": [
    "print(word_tokenize(sample_lower_html_cleaned))"
   ]
  },
  {
   "cell_type": "code",
   "execution_count": null,
   "metadata": {
    "ExecuteTime": {
     "end_time": "2021-09-08T19:16:43.193080Z",
     "start_time": "2021-09-08T19:16:43.094395Z"
    }
   },
   "outputs": [],
   "source": [
    "# for every word in the tokenized list, if the word is not a stopword, then print it\n",
    "\n",
    "print([\n",
    "    each for each in word_tokenize(sample_lower_html_cleaned)\n",
    "    if each not in nltk.corpus.stopwords.words('english')\n",
    "])"
   ]
  },
  {
   "cell_type": "code",
   "execution_count": null,
   "metadata": {
    "ExecuteTime": {
     "end_time": "2021-09-08T19:16:45.340085Z",
     "start_time": "2021-09-08T19:16:45.266311Z"
    }
   },
   "outputs": [],
   "source": [
    "print(\n",
    "    len([\n",
    "        each for each in word_tokenize(sample_lower_html_cleaned)\n",
    "        if each not in nltk.corpus.stopwords.words('english')\n",
    "    ]))"
   ]
  },
  {
   "cell_type": "markdown",
   "metadata": {},
   "source": [
    "## POS Tagging using spaCy"
   ]
  },
  {
   "cell_type": "code",
   "execution_count": null,
   "metadata": {
    "ExecuteTime": {
     "end_time": "2021-09-08T19:32:32.377489Z",
     "start_time": "2021-09-08T19:32:28.349308Z"
    }
   },
   "outputs": [],
   "source": [
    "!pip install spacy"
   ]
  },
  {
   "cell_type": "code",
   "execution_count": null,
   "metadata": {},
   "outputs": [],
   "source": [
    "#Either\n",
    "from spacy.cli.download import download\n",
    "download('en_core_web_sm')\n",
    "\n",
    "# OR\n",
    "\n",
    "python -m spacy download en_core_web_sm"
   ]
  },
  {
   "cell_type": "code",
   "execution_count": null,
   "metadata": {
    "ExecuteTime": {
     "end_time": "2021-09-08T19:17:39.647371Z",
     "start_time": "2021-09-08T19:17:29.282343Z"
    }
   },
   "outputs": [],
   "source": [
    "import spacy\n",
    "nlp = spacy.load(\"en_core_web_sm\")"
   ]
  },
  {
   "cell_type": "code",
   "execution_count": null,
   "metadata": {
    "ExecuteTime": {
     "end_time": "2021-09-08T19:18:10.558386Z",
     "start_time": "2021-09-08T19:18:10.465698Z"
    }
   },
   "outputs": [],
   "source": [
    "doc = nlp(sample_lower_html_cleaned)"
   ]
  },
  {
   "cell_type": "code",
   "execution_count": null,
   "metadata": {
    "ExecuteTime": {
     "end_time": "2021-09-08T19:18:20.209642Z",
     "start_time": "2021-09-08T19:18:20.190705Z"
    }
   },
   "outputs": [],
   "source": [
    "doc"
   ]
  },
  {
   "cell_type": "code",
   "execution_count": null,
   "metadata": {
    "ExecuteTime": {
     "end_time": "2021-09-08T19:18:39.056758Z",
     "start_time": "2021-09-08T19:18:39.029840Z"
    },
    "scrolled": true
   },
   "outputs": [],
   "source": [
    "for token in doc:\n",
    "    print(\"token: {}   pos: {}   tag: {}\".format(token.text, token.pos_, token.tag_))"
   ]
  },
  {
   "cell_type": "markdown",
   "metadata": {},
   "source": [
    "## Named Entity Recognition using spaCy"
   ]
  },
  {
   "cell_type": "code",
   "execution_count": null,
   "metadata": {
    "ExecuteTime": {
     "end_time": "2021-09-08T19:19:58.741423Z",
     "start_time": "2021-09-08T19:19:58.714367Z"
    }
   },
   "outputs": [],
   "source": [
    "for token_ent in doc.ents:\n",
    "    print(\"token: {}   entity: {}\".format(token_ent.text, token_ent.label_))"
   ]
  },
  {
   "cell_type": "code",
   "execution_count": null,
   "metadata": {},
   "outputs": [],
   "source": []
  }
 ],
 "metadata": {
  "kernelspec": {
   "display_name": "Python 3",
   "language": "python",
   "name": "python3"
  },
  "language_info": {
   "codemirror_mode": {
    "name": "ipython",
    "version": 3
   },
   "file_extension": ".py",
   "mimetype": "text/x-python",
   "name": "python",
   "nbconvert_exporter": "python",
   "pygments_lexer": "ipython3",
   "version": "3.8.5"
  },
  "toc": {
   "base_numbering": 1,
   "nav_menu": {},
   "number_sections": true,
   "sideBar": true,
   "skip_h1_title": false,
   "title_cell": "Table of Contents",
   "title_sidebar": "Contents",
   "toc_cell": false,
   "toc_position": {},
   "toc_section_display": true,
   "toc_window_display": true
  },
  "varInspector": {
   "cols": {
    "lenName": 16,
    "lenType": 16,
    "lenVar": 40
   },
   "kernels_config": {
    "python": {
     "delete_cmd_postfix": "",
     "delete_cmd_prefix": "del ",
     "library": "var_list.py",
     "varRefreshCmd": "print(var_dic_list())"
    },
    "r": {
     "delete_cmd_postfix": ") ",
     "delete_cmd_prefix": "rm(",
     "library": "var_list.r",
     "varRefreshCmd": "cat(var_dic_list()) "
    }
   },
   "types_to_exclude": [
    "module",
    "function",
    "builtin_function_or_method",
    "instance",
    "_Feature"
   ],
   "window_display": false
  }
 },
 "nbformat": 4,
 "nbformat_minor": 4
}
