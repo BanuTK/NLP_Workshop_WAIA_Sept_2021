{
 "cells": [
  {
   "cell_type": "markdown",
   "metadata": {},
   "source": [
    "## Imports"
   ]
  },
  {
   "cell_type": "code",
   "execution_count": null,
   "metadata": {
    "ExecuteTime": {
     "end_time": "2021-09-07T21:54:11.521047Z",
     "start_time": "2021-09-07T21:54:09.128887Z"
    }
   },
   "outputs": [],
   "source": [
    "import pandas as pd\n",
    "import numpy as np\n",
    "\n",
    "pd.set_option('display.max_colwidth', None)\n",
    "\n",
    "import re\n",
    "\n",
    "from wordcloud import WordCloud\n",
    "import contractions\n",
    "\n",
    "import matplotlib.pyplot as plt\n",
    "import seaborn as sns\n",
    "plt.style.use('ggplot')\n",
    "plt.rcParams['font.size'] = 15\n",
    "\n",
    "import nltk\n",
    "from nltk.stem.porter import PorterStemmer\n",
    "from nltk import sent_tokenize, word_tokenize\n",
    "from nltk.corpus import stopwords\n",
    "STOPWORDS = set(stopwords.words('english'))"
   ]
  },
  {
   "cell_type": "markdown",
   "metadata": {},
   "source": [
    "## Data Load"
   ]
  },
  {
   "cell_type": "code",
   "execution_count": null,
   "metadata": {
    "ExecuteTime": {
     "end_time": "2021-09-07T21:54:11.602431Z",
     "start_time": "2021-09-07T21:54:11.521047Z"
    }
   },
   "outputs": [],
   "source": [
    "df_train = pd.read_csv('../Datasets/disaster_tweet/train.csv')\n",
    "df_train.head(20)"
   ]
  },
  {
   "cell_type": "code",
   "execution_count": null,
   "metadata": {
    "ExecuteTime": {
     "end_time": "2021-09-07T21:54:11.652716Z",
     "start_time": "2021-09-07T21:54:11.602431Z"
    }
   },
   "outputs": [],
   "source": [
    "df_train.tail(20)"
   ]
  },
  {
   "cell_type": "markdown",
   "metadata": {},
   "source": [
    "### Observation\n",
    "\n",
    "1. Mixed case\n",
    "2. Contractions\n",
    "3. Hashtags and mentions\n",
    "4. Incorrect spellings\n",
    "5. Punctuations\n",
    "6. websites and urls"
   ]
  },
  {
   "cell_type": "markdown",
   "metadata": {},
   "source": [
    "## Functions"
   ]
  },
  {
   "cell_type": "code",
   "execution_count": null,
   "metadata": {
    "ExecuteTime": {
     "end_time": "2021-09-07T21:54:11.668473Z",
     "start_time": "2021-09-07T21:54:11.652716Z"
    }
   },
   "outputs": [],
   "source": [
    "all_text = ' '.join(list(df_train['text']))\n",
    "\n",
    "def check_texts(check_item, all_text):\n",
    "    return check_item in all_text"
   ]
  },
  {
   "cell_type": "code",
   "execution_count": null,
   "metadata": {
    "ExecuteTime": {
     "end_time": "2021-09-07T21:54:11.684502Z",
     "start_time": "2021-09-07T21:54:11.668473Z"
    }
   },
   "outputs": [],
   "source": [
    "print(check_texts('<a', all_text))\n",
    "print(check_texts('<div', all_text))\n",
    "print(check_texts('<p', all_text))"
   ]
  },
  {
   "cell_type": "code",
   "execution_count": null,
   "metadata": {
    "ExecuteTime": {
     "end_time": "2021-09-07T21:54:11.693494Z",
     "start_time": "2021-09-07T21:54:11.685440Z"
    }
   },
   "outputs": [],
   "source": [
    "print(check_texts(':)', all_text))\n",
    "print(check_texts('<3', all_text))\n",
    "print(check_texts('heard', all_text))"
   ]
  },
  {
   "cell_type": "code",
   "execution_count": null,
   "metadata": {
    "ExecuteTime": {
     "end_time": "2021-09-07T21:54:11.720099Z",
     "start_time": "2021-09-07T21:54:11.696043Z"
    }
   },
   "outputs": [],
   "source": [
    "def remove_urls(text):\n",
    "    ''' This method takes in text to remove urls and website links, if any'''\n",
    "    url_pattern = r'(www.|http[s]?://)(?:[a-zA-Z]|[0-9]|[$-_@.&+]|[!*\\(\\),]|(?:%[0-9a-fA-F][0-9a-fA-F]))+'\n",
    "    text = re.sub(url_pattern, '', text)\n",
    "    return text\n",
    "\n",
    "def remove_html_entities(text):\n",
    "    ''' This method removes html tags'''\n",
    "    html_entities = r'<.*?>|&([a-z0-9]+|#[0-9]{1,6}|#x[0-9a-f]{1,6});'\n",
    "    text = re.sub(html_entities, '', text)\n",
    "    return text\n",
    "\n",
    "def convert_lower_case(text):\n",
    "    return text.lower()\n",
    "\n",
    "def detect_news(text):\n",
    "    if 'news' in text:\n",
    "        text = text + ' news'\n",
    "    return text\n",
    "\n",
    "def remove_social_media_tags(text):\n",
    "    ''' This method removes @ and # tags'''\n",
    "    tag_pattern = r'@([a-z0-9]+)|#'\n",
    "    text = re.sub(tag_pattern, '', text)\n",
    "    return text\n",
    "\n",
    "# Count it before I remove them altogether\n",
    "def count_punctuations(text):\n",
    "    getpunctuation = re.findall('[.?\"\\'`\\,\\-\\!:;\\(\\)\\[\\]\\\\/“”]+?',text)\n",
    "    return len(getpunctuation)\n",
    "\n",
    "\n",
    "def preprocess_text(x):\n",
    "    cleaned_text = re.sub(r'[^a-zA-Z\\d\\s]+', '', x)\n",
    "    word_list = []\n",
    "    for each_word in cleaned_text.split(' '):\n",
    "        word_list.append(contractions.fix(each_word).lower())\n",
    "    word_list = [porter_stemmer.stem(each_word.replace('\\n', '').strip()) for each_word in word_list]\n",
    "    word_list = set(word_list) - set(STOPWORDS)\n",
    "    return \" \".join(word_list)"
   ]
  },
  {
   "cell_type": "code",
   "execution_count": null,
   "metadata": {
    "ExecuteTime": {
     "end_time": "2021-09-07T21:54:15.115563Z",
     "start_time": "2021-09-07T21:54:11.723072Z"
    }
   },
   "outputs": [],
   "source": [
    "porter_stemmer = PorterStemmer()\n",
    "\n",
    "df_train['text'] = df_train['text'].apply(remove_urls)\n",
    "df_train['text'] = df_train['text'].apply(remove_html_entities)\n",
    "df_train['text'] = df_train['text'].apply(convert_lower_case)\n",
    "df_train['text'] = df_train['text'].apply(detect_news)\n",
    "df_train['text'] = df_train['text'].apply(remove_social_media_tags)\n",
    "df_train['punctuation_count'] = df_train['text'].apply(count_punctuations)\n",
    "df_train['text'] = df_train['text'].apply(preprocess_text)\n",
    "\n",
    "df_train['text_tokenized'] = df_train['text'].apply(word_tokenize)\n",
    "df_train['words_per_tweet'] = df_train['text_tokenized'].apply(len)"
   ]
  },
  {
   "cell_type": "code",
   "execution_count": null,
   "metadata": {
    "ExecuteTime": {
     "end_time": "2021-09-07T21:54:15.157337Z",
     "start_time": "2021-09-07T21:54:15.115563Z"
    }
   },
   "outputs": [],
   "source": [
    "df_train"
   ]
  },
  {
   "cell_type": "markdown",
   "metadata": {},
   "source": [
    "## Tweet Length Analysis"
   ]
  },
  {
   "cell_type": "code",
   "execution_count": null,
   "metadata": {
    "ExecuteTime": {
     "end_time": "2021-09-07T21:54:15.709118Z",
     "start_time": "2021-09-07T21:54:15.157337Z"
    }
   },
   "outputs": [],
   "source": [
    "sns.histplot(x='words_per_tweet', hue='target', data=df_train, kde=True)\n",
    "plt.show()"
   ]
  },
  {
   "cell_type": "markdown",
   "metadata": {},
   "source": [
    "## Punctuation Analysis"
   ]
  },
  {
   "cell_type": "code",
   "execution_count": null,
   "metadata": {
    "ExecuteTime": {
     "end_time": "2021-09-07T21:54:16.016058Z",
     "start_time": "2021-09-07T21:54:15.709118Z"
    }
   },
   "outputs": [],
   "source": [
    "sns.countplot(x='target', hue='punctuation_count', data=df_train)\n",
    "plt.legend([])\n",
    "plt.show()"
   ]
  },
  {
   "cell_type": "markdown",
   "metadata": {},
   "source": [
    "## Tweet Text Analysis using WordCloud"
   ]
  },
  {
   "cell_type": "code",
   "execution_count": null,
   "metadata": {
    "ExecuteTime": {
     "end_time": "2021-09-07T21:54:16.034590Z",
     "start_time": "2021-09-07T21:54:16.016058Z"
    }
   },
   "outputs": [],
   "source": [
    "real_disaster_tweets = ' '. join(list(df_train[df_train['target'] == 1]['text']))"
   ]
  },
  {
   "cell_type": "code",
   "execution_count": null,
   "metadata": {
    "ExecuteTime": {
     "end_time": "2021-09-07T21:54:16.050594Z",
     "start_time": "2021-09-07T21:54:16.034590Z"
    }
   },
   "outputs": [],
   "source": [
    "non_real_disaster_tweets = ' '. join(list(df_train[df_train['target'] == 0]['text']))"
   ]
  },
  {
   "cell_type": "code",
   "execution_count": null,
   "metadata": {
    "ExecuteTime": {
     "end_time": "2021-09-07T21:54:17.585501Z",
     "start_time": "2021-09-07T21:54:16.050594Z"
    }
   },
   "outputs": [],
   "source": [
    "wc = WordCloud(background_color=\"black\", \n",
    "               max_words=100, \n",
    "               width=1000, \n",
    "               height=600, \n",
    "               random_state=1).generate(real_disaster_tweets)\n",
    "\n",
    "plt.figure(figsize=(15,15))\n",
    "plt.imshow(wc)\n",
    "plt.axis(\"off\")\n",
    "plt.title(\"Wordcloud of Tweets about Real Disasters\")\n",
    "plt.show()"
   ]
  },
  {
   "cell_type": "code",
   "execution_count": null,
   "metadata": {
    "ExecuteTime": {
     "end_time": "2021-09-07T21:54:19.212754Z",
     "start_time": "2021-09-07T21:54:17.585501Z"
    }
   },
   "outputs": [],
   "source": [
    "wc = WordCloud(background_color=\"black\", \n",
    "               max_words=100, \n",
    "               width=1000, \n",
    "               height=600,\n",
    "               font_step=1,\n",
    "               random_state=1).generate(non_real_disaster_tweets)\n",
    "\n",
    "plt.figure(figsize=(15,15))\n",
    "plt.imshow(wc)\n",
    "plt.axis(\"off\")\n",
    "plt.title(\"Wordcloud of Tweets NOT about Real Disasters\")\n",
    "plt.show()"
   ]
  },
  {
   "cell_type": "code",
   "execution_count": null,
   "metadata": {},
   "outputs": [],
   "source": []
  }
 ],
 "metadata": {
  "kernelspec": {
   "display_name": "Python 3",
   "language": "python",
   "name": "python3"
  },
  "language_info": {
   "codemirror_mode": {
    "name": "ipython",
    "version": 3
   },
   "file_extension": ".py",
   "mimetype": "text/x-python",
   "name": "python",
   "nbconvert_exporter": "python",
   "pygments_lexer": "ipython3",
   "version": "3.8.5"
  },
  "toc": {
   "base_numbering": 1,
   "nav_menu": {},
   "number_sections": true,
   "sideBar": true,
   "skip_h1_title": false,
   "title_cell": "Table of Contents",
   "title_sidebar": "Contents",
   "toc_cell": false,
   "toc_position": {},
   "toc_section_display": true,
   "toc_window_display": true
  },
  "varInspector": {
   "cols": {
    "lenName": 16,
    "lenType": 16,
    "lenVar": 40
   },
   "kernels_config": {
    "python": {
     "delete_cmd_postfix": "",
     "delete_cmd_prefix": "del ",
     "library": "var_list.py",
     "varRefreshCmd": "print(var_dic_list())"
    },
    "r": {
     "delete_cmd_postfix": ") ",
     "delete_cmd_prefix": "rm(",
     "library": "var_list.r",
     "varRefreshCmd": "cat(var_dic_list()) "
    }
   },
   "types_to_exclude": [
    "module",
    "function",
    "builtin_function_or_method",
    "instance",
    "_Feature"
   ],
   "window_display": false
  }
 },
 "nbformat": 4,
 "nbformat_minor": 4
}
