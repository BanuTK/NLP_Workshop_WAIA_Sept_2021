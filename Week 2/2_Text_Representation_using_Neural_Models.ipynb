{
 "cells": [
  {
   "cell_type": "markdown",
   "metadata": {},
   "source": [
    "# Text Representation using Neural Models or Text Embeddings"
   ]
  },
  {
   "cell_type": "markdown",
   "metadata": {},
   "source": [
    "## Common Imports"
   ]
  },
  {
   "cell_type": "code",
   "execution_count": null,
   "metadata": {
    "ExecuteTime": {
     "end_time": "2021-09-15T09:29:40.214509Z",
     "start_time": "2021-09-15T09:29:40.192620Z"
    }
   },
   "outputs": [],
   "source": [
    "import pandas as pd\n",
    "import re\n",
    "import numpy as np\n",
    "\n",
    "pd.set_option('display.max_colwidth', None)\n",
    "pd.set_option('display.max_columns', None)\n",
    "\n",
    "import nltk\n",
    "from nltk import sent_tokenize, word_tokenize\n",
    "STOPWORDS = nltk.corpus.stopwords.words('english')\n",
    "\n",
    "import matplotlib.pyplot as plt\n",
    "import seaborn as sns\n",
    "\n",
    "import warnings\n",
    "warnings.filterwarnings(\"ignore\")"
   ]
  },
  {
   "cell_type": "markdown",
   "metadata": {},
   "source": [
    "## Word2Vec Model using Gensim"
   ]
  },
  {
   "cell_type": "code",
   "execution_count": null,
   "metadata": {
    "ExecuteTime": {
     "end_time": "2021-09-15T07:21:11.373190Z",
     "start_time": "2021-09-15T07:21:11.365235Z"
    }
   },
   "outputs": [],
   "source": [
    "import nltk\n",
    "from gensim.models import word2vec"
   ]
  },
  {
   "cell_type": "code",
   "execution_count": null,
   "metadata": {
    "ExecuteTime": {
     "end_time": "2021-09-15T07:23:19.046967Z",
     "start_time": "2021-09-15T07:23:18.979190Z"
    }
   },
   "outputs": [],
   "source": [
    "sample = '''This will be followed by more of the same with the mist and fog clearing to give a day of unbroken sunshine \n",
    "everywhere on Tuesday and temperatures of between 22 and 27 degrees. It will warmest in the midlands. Temperatures \n",
    "could reach a September record for the century in Ireland, but are unlikely to surpass the 29.1 degrees recorded \n",
    "at Kildare’s Clongowes Wood College on September 1st, 1906. Tuesday, however, will be the last day of the sunshine \n",
    "with rain arriving across the country on Wednesday morning. Temperatures will remain as high as 24 degrees with the \n",
    "warmth punctuated by heavy showers.'''\n",
    "\n",
    "cleaned_sample = re.sub(\"[^A-Za-z0-9\\s.]\", \"\" , sample.replace('\\n', '').lower())\n",
    "tokens_docs = [word_tokenize(doc) for doc in sent_tokenize(cleaned_sample)]\n",
    "print(tokens_docs)          "
   ]
  },
  {
   "cell_type": "code",
   "execution_count": null,
   "metadata": {
    "ExecuteTime": {
     "end_time": "2021-09-15T07:26:54.799765Z",
     "start_time": "2021-09-15T07:26:54.744696Z"
    }
   },
   "outputs": [],
   "source": [
    "w2v_model = word2vec.Word2Vec(tokens_docs, \n",
    "                              vector_size=15, # Dimensionality of the word vectors\n",
    "                              window=20, \n",
    "                              min_count = 1,\n",
    "                              sg=1 # 1 for skip-gram; otherwise CBOW\n",
    "                             )\n",
    "w2v_model"
   ]
  },
  {
   "cell_type": "markdown",
   "metadata": {},
   "source": [
    "### Vocab Length"
   ]
  },
  {
   "cell_type": "code",
   "execution_count": null,
   "metadata": {
    "ExecuteTime": {
     "end_time": "2021-09-15T07:34:40.083600Z",
     "start_time": "2021-09-15T07:34:40.071591Z"
    }
   },
   "outputs": [],
   "source": [
    "len(w2v_model.wv)"
   ]
  },
  {
   "cell_type": "markdown",
   "metadata": {},
   "source": [
    "Recall vocab length from the traditional text representation techniques."
   ]
  },
  {
   "cell_type": "code",
   "execution_count": null,
   "metadata": {
    "ExecuteTime": {
     "end_time": "2021-09-15T07:35:49.796375Z",
     "start_time": "2021-09-15T07:35:49.766520Z"
    }
   },
   "outputs": [],
   "source": [
    "w2v_model_min_2 = word2vec.Word2Vec(tokens_docs, \n",
    "                              vector_size=15, # Dimensionality of the word vectors\n",
    "                              window=20, \n",
    "                              min_count = 2,\n",
    "                              sg=1 # 1 for skip-gram; otherwise CBOW\n",
    "                             )\n",
    "len(w2v_model_min_2.wv)"
   ]
  },
  {
   "cell_type": "markdown",
   "metadata": {},
   "source": [
    "Only the words occuring at least twice are taken in the vocab.\n",
    "\n",
    "**Compare the vocabulary list below:**"
   ]
  },
  {
   "cell_type": "code",
   "execution_count": null,
   "metadata": {
    "ExecuteTime": {
     "end_time": "2021-09-15T07:36:53.679066Z",
     "start_time": "2021-09-15T07:36:53.657140Z"
    }
   },
   "outputs": [],
   "source": [
    "w2v_model.wv.key_to_index.keys()"
   ]
  },
  {
   "cell_type": "code",
   "execution_count": null,
   "metadata": {
    "ExecuteTime": {
     "end_time": "2021-09-15T07:37:03.513701Z",
     "start_time": "2021-09-15T07:37:03.491771Z"
    }
   },
   "outputs": [],
   "source": [
    "w2v_model_min_2.wv.key_to_index.keys()"
   ]
  },
  {
   "cell_type": "markdown",
   "metadata": {},
   "source": [
    "### Access individual word vectors"
   ]
  },
  {
   "cell_type": "code",
   "execution_count": null,
   "metadata": {
    "ExecuteTime": {
     "end_time": "2021-09-15T07:38:44.231720Z",
     "start_time": "2021-09-15T07:38:44.211840Z"
    }
   },
   "outputs": [],
   "source": [
    "w2v_model.wv.get_vecattr('temperatures', 'count')"
   ]
  },
  {
   "cell_type": "code",
   "execution_count": null,
   "metadata": {
    "ExecuteTime": {
     "end_time": "2021-09-15T07:40:39.983057Z",
     "start_time": "2021-09-15T07:40:39.961127Z"
    }
   },
   "outputs": [],
   "source": [
    "w2v_model.wv.get_vector('temperatures')"
   ]
  },
  {
   "cell_type": "code",
   "execution_count": null,
   "metadata": {
    "ExecuteTime": {
     "end_time": "2021-09-15T07:41:48.251079Z",
     "start_time": "2021-09-15T07:41:48.228165Z"
    }
   },
   "outputs": [],
   "source": [
    "w2v_model.wv.get_vector('temperatures').shape"
   ]
  },
  {
   "cell_type": "markdown",
   "metadata": {},
   "source": [
    "Recall that we set the dimensionality of the word vectors to 15."
   ]
  },
  {
   "cell_type": "code",
   "execution_count": null,
   "metadata": {
    "ExecuteTime": {
     "end_time": "2021-09-15T07:40:54.895237Z",
     "start_time": "2021-09-15T07:40:54.888255Z"
    }
   },
   "outputs": [],
   "source": [
    "w2v_model.wv.get_vecattr('the', 'count')"
   ]
  },
  {
   "cell_type": "code",
   "execution_count": null,
   "metadata": {
    "ExecuteTime": {
     "end_time": "2021-09-15T07:41:05.328558Z",
     "start_time": "2021-09-15T07:41:05.306629Z"
    }
   },
   "outputs": [],
   "source": [
    "w2v_model.wv.get_vector('the', 'count')"
   ]
  },
  {
   "cell_type": "markdown",
   "metadata": {},
   "source": [
    "### Access the \"word-vectored\" data"
   ]
  },
  {
   "cell_type": "code",
   "execution_count": null,
   "metadata": {
    "ExecuteTime": {
     "end_time": "2021-09-15T07:44:18.316332Z",
     "start_time": "2021-09-15T07:44:18.293465Z"
    }
   },
   "outputs": [],
   "source": [
    "vocab = w2v_model.wv.key_to_index.keys()\n",
    "w2v_model.wv[vocab]"
   ]
  },
  {
   "cell_type": "code",
   "execution_count": null,
   "metadata": {
    "ExecuteTime": {
     "end_time": "2021-09-15T07:46:04.722511Z",
     "start_time": "2021-09-15T07:46:04.700641Z"
    }
   },
   "outputs": [],
   "source": [
    "w2v_model.wv[vocab].shape # vocab x dimension of wv"
   ]
  },
  {
   "cell_type": "markdown",
   "metadata": {},
   "source": [
    "### Most Similar Terms"
   ]
  },
  {
   "cell_type": "code",
   "execution_count": null,
   "metadata": {
    "ExecuteTime": {
     "end_time": "2021-09-15T08:55:55.728520Z",
     "start_time": "2021-09-15T08:55:55.705640Z"
    }
   },
   "outputs": [],
   "source": [
    "w2v_model.wv.most_similar('day', topn=3)"
   ]
  },
  {
   "cell_type": "code",
   "execution_count": null,
   "metadata": {
    "ExecuteTime": {
     "end_time": "2021-09-15T08:56:00.743440Z",
     "start_time": "2021-09-15T08:56:00.720519Z"
    }
   },
   "outputs": [],
   "source": [
    "w2v_model.wv.most_similar('country', topn=3)"
   ]
  },
  {
   "cell_type": "code",
   "execution_count": null,
   "metadata": {
    "ExecuteTime": {
     "end_time": "2021-09-15T09:06:47.253134Z",
     "start_time": "2021-09-15T09:06:47.231250Z"
    }
   },
   "outputs": [],
   "source": [
    "# Given a list of keys which is a subset of the vocab, which of the keys is most similar to the given key.\n",
    "# syntax w2v_model.wv.most_similar_to_given(given_key, subset of the vocab)\n",
    "\n",
    "w2v_model.wv.most_similar_to_given('country', ['september', 'ireland', 'day'])"
   ]
  },
  {
   "cell_type": "code",
   "execution_count": null,
   "metadata": {
    "ExecuteTime": {
     "end_time": "2021-09-15T09:06:49.098999Z",
     "start_time": "2021-09-15T09:06:49.076026Z"
    }
   },
   "outputs": [],
   "source": [
    "w2v_model.wv.most_similar_to_given('country', ['september', 'ireland', 'of'])"
   ]
  },
  {
   "cell_type": "code",
   "execution_count": null,
   "metadata": {
    "ExecuteTime": {
     "end_time": "2021-09-15T09:07:36.435073Z",
     "start_time": "2021-09-15T09:07:36.412194Z"
    }
   },
   "outputs": [],
   "source": [
    "w2v_model.wv.most_similar_to_given('country', ['midlands', 'college', 'unlikely'])"
   ]
  },
  {
   "cell_type": "markdown",
   "metadata": {},
   "source": [
    "### Visualizing a Word2Vec model"
   ]
  },
  {
   "cell_type": "markdown",
   "metadata": {},
   "source": [
    "**Using PCA**"
   ]
  },
  {
   "cell_type": "code",
   "execution_count": null,
   "metadata": {
    "ExecuteTime": {
     "end_time": "2021-09-15T07:43:02.217903Z",
     "start_time": "2021-09-15T07:43:02.164081Z"
    }
   },
   "outputs": [],
   "source": [
    "from sklearn.decomposition import PCA"
   ]
  },
  {
   "cell_type": "code",
   "execution_count": null,
   "metadata": {
    "ExecuteTime": {
     "end_time": "2021-09-15T09:10:51.240067Z",
     "start_time": "2021-09-15T09:10:51.218155Z"
    }
   },
   "outputs": [],
   "source": [
    "def plot_similarity_PCA(model, word_vector):\n",
    "    pca = PCA(n_components=2)\n",
    "    result = pca.fit_transform(word_vector)\n",
    "    print(result.shape)\n",
    "    plt.scatter(\n",
    "        result[:, 0],\n",
    "        result[:, 1],\n",
    "    )\n",
    "    for i, word in enumerate(vocab):\n",
    "        plt.annotate(word, xy=(result[i, 0], result[i, 1]))\n",
    "    plt.show()"
   ]
  },
  {
   "cell_type": "code",
   "execution_count": null,
   "metadata": {
    "ExecuteTime": {
     "end_time": "2021-09-15T09:10:52.919618Z",
     "start_time": "2021-09-15T09:10:52.336655Z"
    }
   },
   "outputs": [],
   "source": [
    "plt.figure(figsize=[10, 10])\n",
    "plot_similarity_PCA(w2v_model, w2v_model.wv[vocab])"
   ]
  },
  {
   "cell_type": "markdown",
   "metadata": {},
   "source": [
    "**Using T-SNE**"
   ]
  },
  {
   "cell_type": "code",
   "execution_count": null,
   "metadata": {
    "ExecuteTime": {
     "end_time": "2021-09-15T09:10:42.575383Z",
     "start_time": "2021-09-15T09:10:42.444415Z"
    }
   },
   "outputs": [],
   "source": [
    "# visualize embeddings\n",
    "from sklearn.manifold import TSNE"
   ]
  },
  {
   "cell_type": "code",
   "execution_count": null,
   "metadata": {
    "ExecuteTime": {
     "end_time": "2021-09-15T09:12:11.044252Z",
     "start_time": "2021-09-15T09:12:11.036358Z"
    }
   },
   "outputs": [],
   "source": [
    "def plot_similarity_TSNE(model, word_vector):\n",
    "    tsne = TSNE(n_components=2)\n",
    "    result = tsne.fit_transform(word_vector)\n",
    "    print(result.shape)\n",
    "    plt.scatter(\n",
    "        result[:, 0],\n",
    "        result[:, 1],\n",
    "    )\n",
    "    for i, word in enumerate(vocab):\n",
    "        plt.annotate(word, xy=(result[i, 0], result[i, 1]))\n",
    "    plt.show()"
   ]
  },
  {
   "cell_type": "code",
   "execution_count": null,
   "metadata": {
    "ExecuteTime": {
     "end_time": "2021-09-15T09:12:27.088560Z",
     "start_time": "2021-09-15T09:12:26.179661Z"
    }
   },
   "outputs": [],
   "source": [
    "plt.figure(figsize=[10, 10])\n",
    "plot_similarity_TSNE(w2v_model, w2v_model.wv[vocab])"
   ]
  },
  {
   "cell_type": "markdown",
   "metadata": {},
   "source": [
    "## GloVe \n",
    "\n",
    "Stanford Project Link - https://nlp.stanford.edu/projects/glove/"
   ]
  },
  {
   "cell_type": "markdown",
   "metadata": {},
   "source": [
    "### GloVe file vs Word2vec file"
   ]
  },
  {
   "cell_type": "code",
   "execution_count": null,
   "metadata": {
    "ExecuteTime": {
     "end_time": "2021-09-15T09:32:20.779111Z",
     "start_time": "2021-09-15T09:32:20.755189Z"
    }
   },
   "outputs": [],
   "source": [
    "from gensim.models import KeyedVectors\n",
    "from gensim.scripts.glove2word2vec import glove2word2vec\n",
    "\n",
    "glove_file = 'test_glove.txt'\n",
    "w2v_file = \"test_word2vec.txt\"\n",
    "glove2word2vec(glove_file, w2v_file)"
   ]
  },
  {
   "cell_type": "code",
   "execution_count": null,
   "metadata": {
    "ExecuteTime": {
     "end_time": "2021-09-15T09:32:31.002953Z",
     "start_time": "2021-09-15T09:32:30.981064Z"
    }
   },
   "outputs": [],
   "source": [
    "model = KeyedVectors.load_word2vec_format(w2v_file)"
   ]
  },
  {
   "cell_type": "markdown",
   "metadata": {},
   "source": [
    "### Loading GloVe"
   ]
  },
  {
   "cell_type": "code",
   "execution_count": null,
   "metadata": {
    "ExecuteTime": {
     "end_time": "2021-09-15T09:43:23.377267Z",
     "start_time": "2021-09-15T09:40:23.518543Z"
    }
   },
   "outputs": [],
   "source": [
    "from gensim.test.utils import get_tmpfile\n",
    "\n",
    "glove_file = r'C:\\Users\\nroy0\\Documents\\Resources\\glove.6B\\glove.6B.300d.txt'\n",
    "w2v_file = get_tmpfile(\"glove_w2v.txt\")\n",
    "glove2word2vec(glove_file, w2v_file)"
   ]
  },
  {
   "cell_type": "code",
   "execution_count": null,
   "metadata": {
    "ExecuteTime": {
     "end_time": "2021-09-15T09:45:08.039824Z",
     "start_time": "2021-09-15T09:43:23.412092Z"
    }
   },
   "outputs": [],
   "source": [
    "w2v_model = KeyedVectors.load_word2vec_format(w2v_file)"
   ]
  },
  {
   "cell_type": "code",
   "execution_count": null,
   "metadata": {
    "ExecuteTime": {
     "end_time": "2021-09-15T09:54:46.221205Z",
     "start_time": "2021-09-15T09:54:45.931413Z"
    }
   },
   "outputs": [],
   "source": [
    "w2v_model.most_similar('day', topn=10)"
   ]
  },
  {
   "cell_type": "code",
   "execution_count": null,
   "metadata": {
    "ExecuteTime": {
     "end_time": "2021-09-15T09:55:57.142391Z",
     "start_time": "2021-09-15T09:55:57.134700Z"
    }
   },
   "outputs": [],
   "source": [
    "vocab = w2v_model.key_to_index.keys()"
   ]
  },
  {
   "cell_type": "code",
   "execution_count": null,
   "metadata": {
    "ExecuteTime": {
     "end_time": "2021-09-15T09:56:28.111050Z",
     "start_time": "2021-09-15T09:56:26.946748Z"
    }
   },
   "outputs": [],
   "source": [
    "glove_embedding_matrix = w2v_model[vocab]\n",
    "glove_embedding_matrix"
   ]
  },
  {
   "cell_type": "code",
   "execution_count": null,
   "metadata": {
    "ExecuteTime": {
     "end_time": "2021-09-15T09:56:34.543378Z",
     "start_time": "2021-09-15T09:56:34.519472Z"
    }
   },
   "outputs": [],
   "source": [
    "glove_embedding_matrix.shape # recall we used 300d"
   ]
  },
  {
   "cell_type": "code",
   "execution_count": null,
   "metadata": {
    "ExecuteTime": {
     "end_time": "2021-09-15T09:57:44.075222Z",
     "start_time": "2021-09-15T09:57:44.043316Z"
    }
   },
   "outputs": [],
   "source": [
    "w2v_model.get_vector('day')"
   ]
  },
  {
   "cell_type": "code",
   "execution_count": null,
   "metadata": {
    "ExecuteTime": {
     "end_time": "2021-09-15T10:01:17.881111Z",
     "start_time": "2021-09-15T10:01:17.865486Z"
    }
   },
   "outputs": [],
   "source": [
    "list_sample_tokens = [each_token for each_seq in tokens_docs for each_token in each_seq if each_token not in STOPWORDS]\n",
    "unique_tokens = list(set(list_sample_tokens))\n",
    "unique_tokens"
   ]
  },
  {
   "cell_type": "code",
   "execution_count": null,
   "metadata": {
    "ExecuteTime": {
     "end_time": "2021-09-15T10:06:18.736462Z",
     "start_time": "2021-09-15T10:06:18.714537Z"
    }
   },
   "outputs": [],
   "source": [
    "# Create a numpy array of zeroes of shape of the vocab_size and the dimension you have chosen\n",
    "# In our case it is 300d\n",
    "\n",
    "sample_glove_embedding_matrix = np.zeros((len(unique_tokens), 300))\n",
    "sample_glove_embedding_matrix.shape"
   ]
  },
  {
   "cell_type": "code",
   "execution_count": null,
   "metadata": {
    "ExecuteTime": {
     "end_time": "2021-09-15T10:07:02.781738Z",
     "start_time": "2021-09-15T10:07:02.757821Z"
    }
   },
   "outputs": [],
   "source": [
    "for i, each_token in enumerate(unique_tokens):\n",
    "    try:\n",
    "        sample_glove_embedding_matrix[i] = w2v_model.get_vector(each_token)\n",
    "    except KeyError as e:\n",
    "        print(e)\n",
    "        print(\"In the matrix, the vector at position {} is zero.\".format(i))\n",
    "sample_glove_embedding_matrix"
   ]
  },
  {
   "cell_type": "code",
   "execution_count": null,
   "metadata": {
    "ExecuteTime": {
     "end_time": "2021-09-15T10:06:22.094499Z",
     "start_time": "2021-09-15T10:06:22.073523Z"
    }
   },
   "outputs": [],
   "source": [
    "sample_glove_embedding_matrix.shape"
   ]
  },
  {
   "cell_type": "code",
   "execution_count": null,
   "metadata": {
    "ExecuteTime": {
     "end_time": "2021-09-15T10:07:10.547410Z",
     "start_time": "2021-09-15T10:07:10.536446Z"
    }
   },
   "outputs": [],
   "source": [
    "sample_glove_embedding_matrix[17]"
   ]
  },
  {
   "cell_type": "code",
   "execution_count": null,
   "metadata": {},
   "outputs": [],
   "source": []
  }
 ],
 "metadata": {
  "kernelspec": {
   "display_name": "Python 3",
   "language": "python",
   "name": "python3"
  },
  "language_info": {
   "codemirror_mode": {
    "name": "ipython",
    "version": 3
   },
   "file_extension": ".py",
   "mimetype": "text/x-python",
   "name": "python",
   "nbconvert_exporter": "python",
   "pygments_lexer": "ipython3",
   "version": "3.8.5"
  },
  "toc": {
   "base_numbering": 1,
   "nav_menu": {},
   "number_sections": true,
   "sideBar": true,
   "skip_h1_title": false,
   "title_cell": "Table of Contents",
   "title_sidebar": "Contents",
   "toc_cell": false,
   "toc_position": {},
   "toc_section_display": true,
   "toc_window_display": true
  },
  "varInspector": {
   "cols": {
    "lenName": 16,
    "lenType": 16,
    "lenVar": 40
   },
   "kernels_config": {
    "python": {
     "delete_cmd_postfix": "",
     "delete_cmd_prefix": "del ",
     "library": "var_list.py",
     "varRefreshCmd": "print(var_dic_list())"
    },
    "r": {
     "delete_cmd_postfix": ") ",
     "delete_cmd_prefix": "rm(",
     "library": "var_list.r",
     "varRefreshCmd": "cat(var_dic_list()) "
    }
   },
   "types_to_exclude": [
    "module",
    "function",
    "builtin_function_or_method",
    "instance",
    "_Feature"
   ],
   "window_display": false
  }
 },
 "nbformat": 4,
 "nbformat_minor": 5
}
